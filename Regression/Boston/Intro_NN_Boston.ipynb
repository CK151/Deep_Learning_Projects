{
 "cells": [
  {
   "cell_type": "markdown",
   "metadata": {
    "id": "D7LV0z5Oq1XD"
   },
   "source": [
    "# Boston House Prediction"
   ]
  },
  {
   "cell_type": "code",
   "execution_count": 1,
   "metadata": {
    "id": "9YLymAGKqg9l"
   },
   "outputs": [],
   "source": [
    "# importing libraries\n",
    "import pandas as pd\n",
    "import numpy as np\n",
    "import tensorflow as tf\n",
    "import matplotlib.pyplot as plt\n",
    "\n",
    "\n",
    "from sklearn.preprocessing import MinMaxScaler # preprocessing"
   ]
  },
  {
   "cell_type": "markdown",
   "metadata": {
    "id": "SGFGyNrhu_UV"
   },
   "source": [
    "### Load the dataset from Tensorflow"
   ]
  },
  {
   "cell_type": "code",
   "execution_count": 2,
   "metadata": {
    "id": "sGfStAIksHx7"
   },
   "outputs": [],
   "source": [
    "# i will use tuple to access split the dataset directly from the keras library\n",
    "\n",
    "(train_data,train_targets), (test_data, test_targets) = tf.keras.datasets.boston_housing.load_data(\n",
    "    path='boston_housing.npz', test_split=0.2, seed=42\n",
    ")\n",
    "\n"
   ]
  },
  {
   "cell_type": "code",
   "execution_count": 3,
   "metadata": {
    "colab": {
     "base_uri": "https://localhost:8080/"
    },
    "id": "y3qn4jGNtLt_",
    "outputId": "2669bef1-8025-42e1-d48a-b367fc46cdcd"
   },
   "outputs": [
    {
     "data": {
      "text/plain": [
       "((404, 13), (404,))"
      ]
     },
     "execution_count": 3,
     "metadata": {},
     "output_type": "execute_result"
    }
   ],
   "source": [
    "# checking the shape of the train data\n",
    "train_data.shape, train_targets.shape"
   ]
  },
  {
   "cell_type": "code",
   "execution_count": 4,
   "metadata": {
    "colab": {
     "base_uri": "https://localhost:8080/"
    },
    "id": "85eX9QO7uZXv",
    "outputId": "ac3810d7-93ef-4a60-ae38-735dc11b73a4"
   },
   "outputs": [
    {
     "data": {
      "text/plain": [
       "((102, 13), (102,))"
      ]
     },
     "execution_count": 4,
     "metadata": {},
     "output_type": "execute_result"
    }
   ],
   "source": [
    "# checking the shape of the test data\n",
    "test_data.shape, test_targets.shape"
   ]
  },
  {
   "cell_type": "code",
   "execution_count": 5,
   "metadata": {
    "colab": {
     "base_uri": "https://localhost:8080/"
    },
    "id": "gdhSqxZRI0cs",
    "outputId": "85b7280c-41fc-44a9-9d88-2d8dfc2d47c1"
   },
   "outputs": [
    {
     "data": {
      "text/plain": [
       "array([[9.1780e-02, 0.0000e+00, 4.0500e+00, ..., 1.6600e+01, 3.9550e+02,\n",
       "        9.0400e+00],\n",
       "       [5.6440e-02, 4.0000e+01, 6.4100e+00, ..., 1.7600e+01, 3.9690e+02,\n",
       "        3.5300e+00],\n",
       "       [1.0574e-01, 0.0000e+00, 2.7740e+01, ..., 2.0100e+01, 3.9011e+02,\n",
       "        1.8070e+01],\n",
       "       ...,\n",
       "       [3.0410e-02, 0.0000e+00, 5.1900e+00, ..., 2.0200e+01, 3.9481e+02,\n",
       "        1.0560e+01],\n",
       "       [5.2058e-01, 0.0000e+00, 6.2000e+00, ..., 1.7400e+01, 3.8845e+02,\n",
       "        9.5400e+00],\n",
       "       [2.5199e-01, 0.0000e+00, 1.0590e+01, ..., 1.8600e+01, 3.8943e+02,\n",
       "        1.8060e+01]])"
      ]
     },
     "execution_count": 5,
     "metadata": {},
     "output_type": "execute_result"
    }
   ],
   "source": [
    "train_data"
   ]
  },
  {
   "cell_type": "code",
   "execution_count": 6,
   "metadata": {
    "colab": {
     "base_uri": "https://localhost:8080/"
    },
    "id": "J6h0YoNdI2eo",
    "outputId": "1dfc1326-0eac-4898-b642-16f447a8bd0b"
   },
   "outputs": [
    {
     "data": {
      "text/plain": [
       "array([[2.17190e-01, 0.00000e+00, 1.05900e+01, ..., 1.86000e+01,\n",
       "        3.90940e+02, 1.60300e+01],\n",
       "       [1.29320e-01, 0.00000e+00, 1.39200e+01, ..., 1.60000e+01,\n",
       "        3.96900e+02, 6.27000e+00],\n",
       "       [6.65492e+00, 0.00000e+00, 1.81000e+01, ..., 2.02000e+01,\n",
       "        3.96900e+02, 1.39900e+01],\n",
       "       ...,\n",
       "       [1.50100e-02, 8.00000e+01, 2.01000e+00, ..., 1.70000e+01,\n",
       "        3.90940e+02, 5.99000e+00],\n",
       "       [1.11604e+01, 0.00000e+00, 1.81000e+01, ..., 2.02000e+01,\n",
       "        1.09850e+02, 2.32700e+01],\n",
       "       [2.28760e-01, 0.00000e+00, 8.56000e+00, ..., 2.09000e+01,\n",
       "        7.08000e+01, 1.06300e+01]])"
      ]
     },
     "execution_count": 6,
     "metadata": {},
     "output_type": "execute_result"
    }
   ],
   "source": [
    "test_data"
   ]
  },
  {
   "cell_type": "markdown",
   "metadata": {
    "id": "dcnSfEW2vF6e"
   },
   "source": [
    "\n",
    "\n",
    "*train_data has 13 features and 404 rows*"
   ]
  },
  {
   "cell_type": "markdown",
   "metadata": {
    "id": "lOHaXLRvzzoO"
   },
   "source": [
    "### Normalising the dataset\n",
    "Since Neural Netwoek prefer normalised data i will normalise the data for better performance using the MinMaxScaler()"
   ]
  },
  {
   "cell_type": "code",
   "execution_count": 7,
   "metadata": {
    "id": "thC6tcvcz8k4"
   },
   "outputs": [],
   "source": [
    "# instantiating the MinMaxScaler\n",
    "scaler = MinMaxScaler()\n",
    "\n",
    "# fitting only on the train data to avoid information leakage\n",
    "scaler.fit_transform(train_data)\n",
    "\n",
    "# Transformimng on both the the train and test daata\n",
    "train_data_scaled = scaler.transform(train_data)\n",
    "test_data_scaled = scaler.transform(test_data)"
   ]
  },
  {
   "cell_type": "code",
   "execution_count": 8,
   "metadata": {
    "colab": {
     "base_uri": "https://localhost:8080/"
    },
    "id": "ND_DpAMPBx_K",
    "outputId": "f1b91853-11cd-49d1-c258-460b8c9c78e9"
   },
   "outputs": [
    {
     "data": {
      "text/plain": [
       "array([[9.60549795e-04, 0.00000000e+00, 1.31598240e-01, ...,\n",
       "        4.25531915e-01, 9.96469817e-01, 1.97503467e-01],\n",
       "       [5.63336716e-04, 4.00000000e-01, 2.18108504e-01, ...,\n",
       "        5.31914894e-01, 1.00000000e+00, 4.46601942e-02],\n",
       "       [1.11745683e-03, 0.00000000e+00, 1.00000000e+00, ...,\n",
       "        7.97872340e-01, 9.82878612e-01, 4.47988904e-01],\n",
       "       ...,\n",
       "       [2.70765792e-04, 0.00000000e+00, 1.73387097e-01, ...,\n",
       "        8.08510638e-01, 9.94729941e-01, 2.39667129e-01],\n",
       "       [5.78015841e-03, 0.00000000e+00, 2.10410557e-01, ...,\n",
       "        5.10638298e-01, 9.78692824e-01, 2.11373093e-01],\n",
       "       [2.76127157e-03, 0.00000000e+00, 3.71334311e-01, ...,\n",
       "        6.38297872e-01, 9.81163952e-01, 4.47711512e-01]])"
      ]
     },
     "execution_count": 8,
     "metadata": {},
     "output_type": "execute_result"
    }
   ],
   "source": [
    "train_data_scaled"
   ]
  },
  {
   "cell_type": "code",
   "execution_count": 9,
   "metadata": {
    "colab": {
     "base_uri": "https://localhost:8080/"
    },
    "id": "M9B2JGRIB2v_",
    "outputId": "81303d1c-b13c-479a-8bc6-01e0a207fc59"
   },
   "outputs": [
    {
     "data": {
      "text/plain": [
       "array([[2.37012796e-03, 0.00000000e+00, 3.71334311e-01, ...,\n",
       "        6.38297872e-01, 9.84971506e-01, 3.91400832e-01],\n",
       "       [1.38249034e-03, 0.00000000e+00, 4.93401760e-01, ...,\n",
       "        3.61702128e-01, 1.00000000e+00, 1.20665742e-01],\n",
       "       [7.47286610e-02, 0.00000000e+00, 6.46627566e-01, ...,\n",
       "        8.08510638e-01, 1.00000000e+00, 3.34812760e-01],\n",
       "       ...,\n",
       "       [9.76735048e-05, 8.00000000e-01, 5.68181818e-02, ...,\n",
       "        4.68085106e-01, 9.84971506e-01, 1.12898752e-01],\n",
       "       [1.25369170e-01, 0.00000000e+00, 6.46627566e-01, ...,\n",
       "        8.08510638e-01, 2.76186394e-01, 5.92233010e-01],\n",
       "       [2.50017197e-03, 0.00000000e+00, 2.96920821e-01, ...,\n",
       "        8.82978723e-01, 1.77719502e-01, 2.41608877e-01]])"
      ]
     },
     "execution_count": 9,
     "metadata": {},
     "output_type": "execute_result"
    }
   ],
   "source": [
    "test_data_scaled"
   ]
  },
  {
   "cell_type": "markdown",
   "metadata": {
    "id": "Y7sEHdZvvjIe"
   },
   "source": [
    "# Building a Neural Network model"
   ]
  },
  {
   "cell_type": "markdown",
   "metadata": {
    "id": "UtpXh6YMLVES"
   },
   "source": [
    "#### Model 1"
   ]
  },
  {
   "cell_type": "code",
   "execution_count": 10,
   "metadata": {
    "colab": {
     "base_uri": "https://localhost:8080/"
    },
    "id": "d9o2oPnPugOQ",
    "outputId": "66287197-3538-4574-ff84-e173fbede6bf"
   },
   "outputs": [
    {
     "name": "stdout",
     "output_type": "stream",
     "text": [
      "Epoch 1/35\n",
      "12/12 [==============================] - 3s 91ms/step - loss: 21.8840 - mae: 21.8840 - val_loss: 22.5995 - val_mae: 22.5995 - lr: 1.0000e-04\n",
      "Epoch 2/35\n",
      "12/12 [==============================] - 0s 21ms/step - loss: 21.8764 - mae: 21.8764 - val_loss: 22.5914 - val_mae: 22.5914 - lr: 1.1220e-04\n",
      "Epoch 3/35\n",
      "12/12 [==============================] - 0s 16ms/step - loss: 21.8679 - mae: 21.8679 - val_loss: 22.5825 - val_mae: 22.5825 - lr: 1.2589e-04\n",
      "Epoch 4/35\n",
      "12/12 [==============================] - 0s 13ms/step - loss: 21.8584 - mae: 21.8584 - val_loss: 22.5723 - val_mae: 22.5723 - lr: 1.4125e-04\n",
      "Epoch 5/35\n",
      "12/12 [==============================] - 0s 13ms/step - loss: 21.8477 - mae: 21.8477 - val_loss: 22.5609 - val_mae: 22.5609 - lr: 1.5849e-04\n",
      "Epoch 6/35\n",
      "12/12 [==============================] - 0s 13ms/step - loss: 21.8357 - mae: 21.8357 - val_loss: 22.5482 - val_mae: 22.5482 - lr: 1.7783e-04\n",
      "Epoch 7/35\n",
      "12/12 [==============================] - 0s 13ms/step - loss: 21.8222 - mae: 21.8222 - val_loss: 22.5339 - val_mae: 22.5339 - lr: 1.9953e-04\n",
      "Epoch 8/35\n",
      "12/12 [==============================] - 0s 20ms/step - loss: 21.8071 - mae: 21.8071 - val_loss: 22.5180 - val_mae: 22.5180 - lr: 2.2387e-04\n",
      "Epoch 9/35\n",
      "12/12 [==============================] - 0s 16ms/step - loss: 21.7902 - mae: 21.7902 - val_loss: 22.4999 - val_mae: 22.4999 - lr: 2.5119e-04\n",
      "Epoch 10/35\n",
      "12/12 [==============================] - 0s 15ms/step - loss: 21.7712 - mae: 21.7712 - val_loss: 22.4798 - val_mae: 22.4798 - lr: 2.8184e-04\n",
      "Epoch 11/35\n",
      "12/12 [==============================] - 0s 13ms/step - loss: 21.7498 - mae: 21.7498 - val_loss: 22.4571 - val_mae: 22.4571 - lr: 3.1623e-04\n",
      "Epoch 12/35\n",
      "12/12 [==============================] - 0s 9ms/step - loss: 21.7259 - mae: 21.7259 - val_loss: 22.4317 - val_mae: 22.4317 - lr: 3.5481e-04\n",
      "Epoch 13/35\n",
      "12/12 [==============================] - 0s 14ms/step - loss: 21.6990 - mae: 21.6990 - val_loss: 22.4032 - val_mae: 22.4032 - lr: 3.9811e-04\n",
      "Epoch 14/35\n",
      "12/12 [==============================] - 0s 21ms/step - loss: 21.6689 - mae: 21.6689 - val_loss: 22.3713 - val_mae: 22.3713 - lr: 4.4668e-04\n",
      "Epoch 15/35\n",
      "12/12 [==============================] - 0s 14ms/step - loss: 21.6350 - mae: 21.6350 - val_loss: 22.3354 - val_mae: 22.3354 - lr: 5.0119e-04\n",
      "Epoch 16/35\n",
      "12/12 [==============================] - 0s 17ms/step - loss: 21.5971 - mae: 21.5971 - val_loss: 22.2949 - val_mae: 22.2949 - lr: 5.6234e-04\n",
      "Epoch 17/35\n",
      "12/12 [==============================] - 0s 9ms/step - loss: 21.5540 - mae: 21.5540 - val_loss: 22.2499 - val_mae: 22.2499 - lr: 6.3096e-04\n",
      "Epoch 18/35\n",
      "12/12 [==============================] - 0s 9ms/step - loss: 21.5064 - mae: 21.5064 - val_loss: 22.1988 - val_mae: 22.1988 - lr: 7.0795e-04\n",
      "Epoch 19/35\n",
      "12/12 [==============================] - 0s 11ms/step - loss: 21.4525 - mae: 21.4525 - val_loss: 22.1420 - val_mae: 22.1420 - lr: 7.9433e-04\n",
      "Epoch 20/35\n",
      "12/12 [==============================] - 0s 16ms/step - loss: 21.3925 - mae: 21.3925 - val_loss: 22.0783 - val_mae: 22.0783 - lr: 8.9125e-04\n",
      "Epoch 21/35\n",
      "12/12 [==============================] - 0s 17ms/step - loss: 21.3250 - mae: 21.3250 - val_loss: 22.0067 - val_mae: 22.0067 - lr: 0.0010\n",
      "Epoch 22/35\n",
      "12/12 [==============================] - 0s 22ms/step - loss: 21.2490 - mae: 21.2490 - val_loss: 21.9263 - val_mae: 21.9263 - lr: 0.0011\n",
      "Epoch 23/35\n",
      "12/12 [==============================] - 0s 19ms/step - loss: 21.1640 - mae: 21.1640 - val_loss: 21.8362 - val_mae: 21.8362 - lr: 0.0013\n",
      "Epoch 24/35\n",
      "12/12 [==============================] - 0s 18ms/step - loss: 21.0690 - mae: 21.0690 - val_loss: 21.7349 - val_mae: 21.7349 - lr: 0.0014\n",
      "Epoch 25/35\n",
      "12/12 [==============================] - 0s 10ms/step - loss: 20.9616 - mae: 20.9616 - val_loss: 21.6216 - val_mae: 21.6216 - lr: 0.0016\n",
      "Epoch 26/35\n",
      "12/12 [==============================] - 0s 12ms/step - loss: 20.8420 - mae: 20.8420 - val_loss: 21.4935 - val_mae: 21.4935 - lr: 0.0018\n",
      "Epoch 27/35\n",
      "12/12 [==============================] - 0s 16ms/step - loss: 20.7061 - mae: 20.7061 - val_loss: 21.3508 - val_mae: 21.3508 - lr: 0.0020\n",
      "Epoch 28/35\n",
      "12/12 [==============================] - 0s 17ms/step - loss: 20.5557 - mae: 20.5557 - val_loss: 21.1900 - val_mae: 21.1900 - lr: 0.0022\n",
      "Epoch 29/35\n",
      "12/12 [==============================] - 0s 11ms/step - loss: 20.3861 - mae: 20.3861 - val_loss: 21.0101 - val_mae: 21.0101 - lr: 0.0025\n",
      "Epoch 30/35\n",
      "12/12 [==============================] - 0s 17ms/step - loss: 20.1953 - mae: 20.1953 - val_loss: 20.8088 - val_mae: 20.8088 - lr: 0.0028\n",
      "Epoch 31/35\n",
      "12/12 [==============================] - 0s 14ms/step - loss: 19.9820 - mae: 19.9820 - val_loss: 20.5827 - val_mae: 20.5827 - lr: 0.0032\n",
      "Epoch 32/35\n",
      "12/12 [==============================] - 0s 21ms/step - loss: 19.7425 - mae: 19.7425 - val_loss: 20.3290 - val_mae: 20.3290 - lr: 0.0035\n",
      "Epoch 33/35\n",
      "12/12 [==============================] - 0s 9ms/step - loss: 19.4740 - mae: 19.4740 - val_loss: 20.0430 - val_mae: 20.0430 - lr: 0.0040\n",
      "Epoch 34/35\n",
      "12/12 [==============================] - 0s 17ms/step - loss: 19.1716 - mae: 19.1716 - val_loss: 19.7211 - val_mae: 19.7211 - lr: 0.0045\n",
      "Epoch 35/35\n",
      "12/12 [==============================] - 0s 14ms/step - loss: 18.8347 - mae: 18.8347 - val_loss: 19.3633 - val_mae: 19.3633 - lr: 0.0050\n"
     ]
    }
   ],
   "source": [
    "# setting random seed\n",
    "tf.random.set_seed(42)\n",
    "\n",
    "# building a very simple model and will improve as we go\n",
    "model_1 = tf.keras.Sequential([\n",
    "    tf.keras.layers.Dense(1)\n",
    "])\n",
    "\n",
    "\n",
    "# Compile the model\n",
    "\n",
    "model_1.compile(loss=tf.keras.losses.mae,\n",
    "                optimizer=tf.keras.optimizers.Adam(),\n",
    "                metrics=[\"mae\"])\n",
    "\n",
    "# learning rate callback\n",
    "lr_scheduler = tf.keras.callbacks.LearningRateScheduler(lambda epochs: 1e-4 * 10 **(epochs/20))\n",
    "\n",
    "\n",
    "# fit the model\n",
    "\n",
    "history_1 = model_1 .fit(train_data_scaled,\n",
    "             train_targets,\n",
    "             epochs=35,\n",
    "             callbacks=[lr_scheduler],\n",
    "             validation_split=0.1) # using 10% of the train data for validation to ensure improvement"
   ]
  },
  {
   "cell_type": "code",
   "execution_count": 11,
   "metadata": {
    "colab": {
     "base_uri": "https://localhost:8080/",
     "height": 470
    },
    "id": "hDqAK_HA54vh",
    "outputId": "09c0ef07-7ce1-4a1d-9824-8f7520541b09"
   },
   "outputs": [
    {
     "data": {
      "text/plain": [
       "Text(0.5, 1.0, 'Loss curve model 1')"
      ]
     },
     "execution_count": 11,
     "metadata": {},
     "output_type": "execute_result"
    },
    {
     "data": {
      "image/png": "[encoded data removed]",
      "text/plain": [
       "<Figure size 640x480 with 1 Axes>"
      ]
     },
     "metadata": {},
     "output_type": "display_data"
    }
   ],
   "source": [
    "# checkout the history\n",
    "\n",
    "pd.DataFrame(history_1.history).plot()\n",
    "plt.title(\"Loss curve model 1\")"
   ]
  },
  {
   "cell_type": "markdown",
   "metadata": {
    "id": "dCLxA7CYJbaT"
   },
   "source": [
    "As we can visualize, the model is too basic to learn any pattern from the data"
   ]
  },
  {
   "cell_type": "code",
   "execution_count": 12,
   "metadata": {
    "colab": {
     "base_uri": "https://localhost:8080/"
    },
    "id": "ZmWqSKj2xeaQ",
    "outputId": "430fc940-ffe1-4969-b9db-8d39f50f712b"
   },
   "outputs": [
    {
     "name": "stdout",
     "output_type": "stream",
     "text": [
      "4/4 [==============================] - 0s 7ms/step - loss: 18.9101 - mae: 18.9101\n"
     ]
    },
    {
     "data": {
      "text/plain": [
       "[18.91006088256836, 18.91006088256836]"
      ]
     },
     "execution_count": 12,
     "metadata": {},
     "output_type": "execute_result"
    }
   ],
   "source": [
    "model_1.evaluate(test_data_scaled, test_targets)"
   ]
  },
  {
   "cell_type": "markdown",
   "metadata": {
    "id": "fczmkXUwJjz2"
   },
   "source": [
    "We used the Mean Absolute Error as our metric and the result shows that on the average we deviate by 20 from the original value"
   ]
  },
  {
   "cell_type": "markdown",
   "metadata": {
    "id": "HkEHVOrcLZ-m"
   },
   "source": [
    "#### Model 2"
   ]
  },
  {
   "cell_type": "code",
   "execution_count": 13,
   "metadata": {
    "colab": {
     "base_uri": "https://localhost:8080/"
    },
    "id": "Rk-47GT9yITs",
    "outputId": "5dbab123-b31a-48d5-e55d-b7a497f398a9"
   },
   "outputs": [
    {
     "name": "stdout",
     "output_type": "stream",
     "text": [
      "Epoch 1/30\n",
      "12/12 [==============================] - 3s 102ms/step - loss: 22.3869 - mae: 22.3869 - val_loss: 23.0250 - val_mae: 23.0250 - lr: 1.0000e-04\n",
      "Epoch 2/30\n",
      "12/12 [==============================] - 0s 20ms/step - loss: 22.3173 - mae: 22.3173 - val_loss: 22.9510 - val_mae: 22.9510 - lr: 1.1220e-04\n",
      "Epoch 3/30\n",
      "12/12 [==============================] - 0s 29ms/step - loss: 22.2387 - mae: 22.2387 - val_loss: 22.8678 - val_mae: 22.8678 - lr: 1.2589e-04\n",
      "Epoch 4/30\n",
      "12/12 [==============================] - 0s 36ms/step - loss: 22.1508 - mae: 22.1508 - val_loss: 22.7731 - val_mae: 22.7731 - lr: 1.4125e-04\n",
      "Epoch 5/30\n",
      "12/12 [==============================] - 0s 30ms/step - loss: 22.0501 - mae: 22.0501 - val_loss: 22.6649 - val_mae: 22.6649 - lr: 1.5849e-04\n",
      "Epoch 6/30\n",
      "12/12 [==============================] - 0s 27ms/step - loss: 21.9355 - mae: 21.9355 - val_loss: 22.5405 - val_mae: 22.5405 - lr: 1.7783e-04\n",
      "Epoch 7/30\n",
      "12/12 [==============================] - 0s 32ms/step - loss: 21.8031 - mae: 21.8031 - val_loss: 22.3985 - val_mae: 22.3985 - lr: 1.9953e-04\n",
      "Epoch 8/30\n",
      "12/12 [==============================] - 0s 29ms/step - loss: 21.6489 - mae: 21.6489 - val_loss: 22.2316 - val_mae: 22.2316 - lr: 2.2387e-04\n",
      "Epoch 9/30\n",
      "12/12 [==============================] - 0s 30ms/step - loss: 21.4676 - mae: 21.4676 - val_loss: 22.0321 - val_mae: 22.0321 - lr: 2.5119e-04\n",
      "Epoch 10/30\n",
      "12/12 [==============================] - 0s 35ms/step - loss: 21.2497 - mae: 21.2497 - val_loss: 21.7907 - val_mae: 21.7907 - lr: 2.8184e-04\n",
      "Epoch 11/30\n",
      "12/12 [==============================] - 0s 31ms/step - loss: 20.9817 - mae: 20.9817 - val_loss: 21.4914 - val_mae: 21.4914 - lr: 3.1623e-04\n",
      "Epoch 12/30\n",
      "12/12 [==============================] - 0s 18ms/step - loss: 20.6504 - mae: 20.6504 - val_loss: 21.1165 - val_mae: 21.1165 - lr: 3.5481e-04\n",
      "Epoch 13/30\n",
      "12/12 [==============================] - 0s 25ms/step - loss: 20.2372 - mae: 20.2372 - val_loss: 20.6557 - val_mae: 20.6557 - lr: 3.9811e-04\n",
      "Epoch 14/30\n",
      "12/12 [==============================] - 0s 15ms/step - loss: 19.7264 - mae: 19.7264 - val_loss: 20.0850 - val_mae: 20.0850 - lr: 4.4668e-04\n",
      "Epoch 15/30\n",
      "12/12 [==============================] - 0s 14ms/step - loss: 19.0942 - mae: 19.0942 - val_loss: 19.3848 - val_mae: 19.3848 - lr: 5.0119e-04\n",
      "Epoch 16/30\n",
      "12/12 [==============================] - 0s 17ms/step - loss: 18.3388 - mae: 18.3388 - val_loss: 18.5332 - val_mae: 18.5332 - lr: 5.6234e-04\n",
      "Epoch 17/30\n",
      "12/12 [==============================] - 0s 25ms/step - loss: 17.4277 - mae: 17.4277 - val_loss: 17.5094 - val_mae: 17.5094 - lr: 6.3096e-04\n",
      "Epoch 18/30\n",
      "12/12 [==============================] - 0s 16ms/step - loss: 16.3541 - mae: 16.3541 - val_loss: 16.2587 - val_mae: 16.2587 - lr: 7.0795e-04\n",
      "Epoch 19/30\n",
      "12/12 [==============================] - 0s 12ms/step - loss: 15.1459 - mae: 15.1459 - val_loss: 14.8957 - val_mae: 14.8957 - lr: 7.9433e-04\n",
      "Epoch 20/30\n",
      "12/12 [==============================] - 0s 15ms/step - loss: 13.8492 - mae: 13.8492 - val_loss: 13.4214 - val_mae: 13.4214 - lr: 8.9125e-04\n",
      "Epoch 21/30\n",
      "12/12 [==============================] - 0s 16ms/step - loss: 12.5257 - mae: 12.5257 - val_loss: 11.9989 - val_mae: 11.9989 - lr: 0.0010\n",
      "Epoch 22/30\n",
      "12/12 [==============================] - 0s 24ms/step - loss: 11.3753 - mae: 11.3753 - val_loss: 10.6810 - val_mae: 10.6810 - lr: 0.0011\n",
      "Epoch 23/30\n",
      "12/12 [==============================] - 0s 27ms/step - loss: 10.3359 - mae: 10.3359 - val_loss: 9.5203 - val_mae: 9.5203 - lr: 0.0013\n",
      "Epoch 24/30\n",
      "12/12 [==============================] - 0s 27ms/step - loss: 9.5131 - mae: 9.5131 - val_loss: 8.8706 - val_mae: 8.8706 - lr: 0.0014\n",
      "Epoch 25/30\n",
      "12/12 [==============================] - 0s 15ms/step - loss: 8.8876 - mae: 8.8876 - val_loss: 8.4335 - val_mae: 8.4335 - lr: 0.0016\n",
      "Epoch 26/30\n",
      "12/12 [==============================] - 0s 14ms/step - loss: 8.3651 - mae: 8.3651 - val_loss: 8.0672 - val_mae: 8.0672 - lr: 0.0018\n",
      "Epoch 27/30\n",
      "12/12 [==============================] - 0s 10ms/step - loss: 7.9726 - mae: 7.9726 - val_loss: 7.6870 - val_mae: 7.6870 - lr: 0.0020\n",
      "Epoch 28/30\n",
      "12/12 [==============================] - 0s 17ms/step - loss: 7.5048 - mae: 7.5048 - val_loss: 7.2804 - val_mae: 7.2804 - lr: 0.0022\n",
      "Epoch 29/30\n",
      "12/12 [==============================] - 0s 12ms/step - loss: 7.0039 - mae: 7.0039 - val_loss: 6.8622 - val_mae: 6.8622 - lr: 0.0025\n",
      "Epoch 30/30\n",
      "12/12 [==============================] - 0s 20ms/step - loss: 6.4853 - mae: 6.4853 - val_loss: 6.5065 - val_mae: 6.5065 - lr: 0.0028\n"
     ]
    }
   ],
   "source": [
    "# set random seed\n",
    "tf.random.set_seed(42)\n",
    "\n",
    "# build the model\n",
    "model_2 = tf.keras.Sequential([\n",
    "    tf.keras.layers.Dense(100, activation=\"relu\"), # added an additional layer with 100 neurons with relu activation function\n",
    "    tf.keras.layers.Dense(1)\n",
    "])\n",
    "\n",
    "\n",
    "# Compile the model\n",
    "\n",
    "model_2.compile(loss=tf.keras.losses.mae,\n",
    "                optimizer=tf.keras.optimizers.Adam(),\n",
    "                metrics=[\"mae\"])\n",
    "# learning rate callback\n",
    "lr_scheduler = tf.keras.callbacks.LearningRateScheduler(lambda epochs: 1e-4 * 10 **(epochs/20))\n",
    "\n",
    "# fit the 2odel\n",
    "\n",
    "history_2 = model_2 .fit(train_data_scaled,\n",
    "                         train_targets,\n",
    "                         epochs=30,\n",
    "                         verbose=1,\n",
    "                         callbacks=[lr_scheduler],\n",
    "                         validation_split=0.1)"
   ]
  },
  {
   "cell_type": "code",
   "execution_count": 14,
   "metadata": {
    "colab": {
     "base_uri": "https://localhost:8080/"
    },
    "id": "k0AxNsriCiEY",
    "outputId": "261ce831-9d96-419c-b18e-fbef8f8a0d83"
   },
   "outputs": [
    {
     "name": "stdout",
     "output_type": "stream",
     "text": [
      "4/4 [==============================] - 0s 8ms/step - loss: 5.6636 - mae: 5.6636\n"
     ]
    },
    {
     "data": {
      "text/plain": [
       "[5.663602828979492, 5.663602828979492]"
      ]
     },
     "execution_count": 14,
     "metadata": {},
     "output_type": "execute_result"
    }
   ],
   "source": [
    "model_2.evaluate(test_data_scaled, test_targets)"
   ]
  },
  {
   "cell_type": "code",
   "execution_count": 15,
   "metadata": {
    "colab": {
     "base_uri": "https://localhost:8080/",
     "height": 470
    },
    "id": "Xx86Qk5h88sa",
    "outputId": "bac5b019-ba54-4bf6-c27e-9eb67430af69"
   },
   "outputs": [
    {
     "data": {
      "text/plain": [
       "Text(0.5, 1.0, 'Loss curve model 1')"
      ]
     },
     "execution_count": 15,
     "metadata": {},
     "output_type": "execute_result"
    },
    {
     "data": {
      "image/png": "[encoded data removed]",
      "text/plain": [
       "<Figure size 640x480 with 1 Axes>"
      ]
     },
     "metadata": {},
     "output_type": "display_data"
    }
   ],
   "source": [
    "# checkout the history\n",
    "\n",
    "pd.DataFrame(history_2.history).plot()\n",
    "plt.title(\"Loss curve model 1\")"
   ]
  },
  {
   "cell_type": "code",
   "execution_count": 16,
   "metadata": {
    "colab": {
     "base_uri": "https://localhost:8080/",
     "height": 664
    },
    "id": "L82ykoBq9STB",
    "outputId": "22ce4b0c-82bb-4a16-b599-07494ddddc1f"
   },
   "outputs": [
    {
     "data": {
      "text/plain": [
       "Text(0.5, 1.0, 'Learning rate vs Loss')"
      ]
     },
     "execution_count": 16,
     "metadata": {},
     "output_type": "execute_result"
    },
    {
     "data": {
      "image/png": "[encoded data removed]",
      "text/plain": [
       "<Figure size 1000x700 with 1 Axes>"
      ]
     },
     "metadata": {},
     "output_type": "display_data"
    }
   ],
   "source": [
    "# plot the learning rate vs the loss\n",
    "\n",
    "lrs = 1e-4 * (10 **(tf.range(30)/20))\n",
    "plt.figure(figsize=(10,7))\n",
    "plt.semilogx(lrs,history_2.history[\"loss\"])\n",
    "plt.xlabel(\"Learning Rate\")\n",
    "plt.ylabel(\"Loss\")\n",
    "plt.title(\"Learning rate vs Loss\")"
   ]
  },
  {
   "cell_type": "markdown",
   "metadata": {
    "id": "3r4VrzbrMlgE"
   },
   "source": [
    "#### Model 3"
   ]
  },
  {
   "cell_type": "code",
   "execution_count": 17,
   "metadata": {
    "id": "vOkEAC0nC7TN"
   },
   "outputs": [],
   "source": [
    "tf.random.set_seed(42)\n",
    "\n",
    "model_3 = tf.keras.Sequential([\n",
    "    tf.keras.layers.Dense(100, activation=\"relu\"),\n",
    "    tf.keras.layers.Dense(1)\n",
    "])\n",
    "\n",
    "\n",
    "# Compile the model\n",
    "\n",
    "model_3.compile(loss=tf.keras.losses.mae,\n",
    "                optimizer=tf.keras.optimizers.Adam(learning_rate=0.0002), # set the learning rate to 0.0002\n",
    "                metrics=[\"mae\"])\n",
    "\n",
    "\n",
    "# fit the 2odel\n",
    "\n",
    "history_3 = model_3.fit(train_data_scaled, train_targets, epochs=100, verbose=0)"
   ]
  },
  {
   "cell_type": "code",
   "execution_count": 18,
   "metadata": {
    "colab": {
     "base_uri": "https://localhost:8080/"
    },
    "id": "O8hPZu9mDB0U",
    "outputId": "370f24cc-50bc-40f6-ab94-019fac8a2328"
   },
   "outputs": [
    {
     "name": "stdout",
     "output_type": "stream",
     "text": [
      "4/4 [==============================] - 0s 5ms/step - loss: 6.9995 - mae: 6.9995\n"
     ]
    },
    {
     "data": {
      "text/plain": [
       "[6.999511241912842, 6.999511241912842]"
      ]
     },
     "execution_count": 18,
     "metadata": {},
     "output_type": "execute_result"
    }
   ],
   "source": [
    "# model evaluation\n",
    "model_3.evaluate(test_data_scaled, test_targets)"
   ]
  },
  {
   "cell_type": "code",
   "execution_count": 19,
   "metadata": {
    "colab": {
     "base_uri": "https://localhost:8080/",
     "height": 449
    },
    "id": "zr1_5x7_Dm3c",
    "outputId": "2a381b77-ae33-4723-fae1-73bd129f8318"
   },
   "outputs": [
    {
     "data": {
      "image/png": "[encoded data removed]",
      "text/plain": [
       "<Figure size 640x480 with 1 Axes>"
      ]
     },
     "metadata": {},
     "output_type": "display_data"
    }
   ],
   "source": [
    "pd.DataFrame(history_3.history).plot()\n",
    "plt.ylabel(\"loss\")\n",
    "plt.xlabel(\"epochs\");"
   ]
  },
  {
   "cell_type": "markdown",
   "metadata": {
    "id": "rwtKKkd5NDhQ"
   },
   "source": [
    "#### Model 4"
   ]
  },
  {
   "cell_type": "code",
   "execution_count": 20,
   "metadata": {
    "id": "No_HP3hNEWmS"
   },
   "outputs": [],
   "source": [
    "# set random seed\n",
    "tf.random.set_seed(42)\n",
    "\n",
    "# build the model\n",
    "model_4 = tf.keras.Sequential([\n",
    "    tf.keras.layers.Dense(64, activation=\"relu\"), # added 2 extra layer and used relu activation function\n",
    "    tf.keras.layers.Dense(64, activation=\"relu\"),\n",
    "    tf.keras.layers.Dense(1, activation=\"linear\") # used the linear activation function at the output layer\n",
    "])\n",
    "\n",
    "\n",
    "# Compile the model\n",
    "\n",
    "model_4.compile(loss=tf.keras.losses.mae,\n",
    "                optimizer=tf.keras.optimizers.Adam(learning_rate=0.01), # set the learning rate to 0.01\n",
    "                metrics=[\"mae\"])\n",
    "\n",
    "\n",
    "# fit the Model\n",
    "\n",
    "history_4 = model_4.fit(train_data_scaled, train_targets, epochs=20, verbose=0)"
   ]
  },
  {
   "cell_type": "code",
   "execution_count": 21,
   "metadata": {
    "colab": {
     "base_uri": "https://localhost:8080/"
    },
    "id": "Oyn-dmOWEejY",
    "outputId": "672f67a1-15ee-46ca-f2db-db4c819609ba"
   },
   "outputs": [
    {
     "name": "stdout",
     "output_type": "stream",
     "text": [
      "4/4 [==============================] - 0s 9ms/step - loss: 3.1224 - mae: 3.1224\n"
     ]
    },
    {
     "data": {
      "text/plain": [
       "[3.1223976612091064, 3.1223976612091064]"
      ]
     },
     "execution_count": 21,
     "metadata": {},
     "output_type": "execute_result"
    }
   ],
   "source": [
    "model_4.evaluate(test_data_scaled, test_targets)"
   ]
  },
  {
   "cell_type": "code",
   "execution_count": 22,
   "metadata": {
    "colab": {
     "base_uri": "https://localhost:8080/",
     "height": 449
    },
    "id": "1skQVc0NEjSy",
    "outputId": "01fa81a0-973d-4433-a3d7-1a983fcf2386"
   },
   "outputs": [
    {
     "data": {
      "image/png": "[encoded data removed]",
      "text/plain": [
       "<Figure size 640x480 with 1 Axes>"
      ]
     },
     "metadata": {},
     "output_type": "display_data"
    }
   ],
   "source": [
    "pd.DataFrame(history_4.history).plot()\n",
    "plt.ylabel(\"loss\")\n",
    "plt.xlabel(\"epochs\");"
   ]
  },
  {
   "cell_type": "code",
   "execution_count": 23,
   "metadata": {
    "colab": {
     "base_uri": "https://localhost:8080/"
    },
    "id": "rbQXXs1YUn6r",
    "outputId": "56dea40a-9e0c-446c-b7cc-5e23228eed2a"
   },
   "outputs": [
    {
     "name": "stdout",
     "output_type": "stream",
     "text": [
      "4/4 [==============================] - 0s 4ms/step\n"
     ]
    }
   ],
   "source": [
    "predictions = model_4.predict(test_data_scaled)"
   ]
  },
  {
   "cell_type": "code",
   "execution_count": 24,
   "metadata": {
    "colab": {
     "base_uri": "https://localhost:8080/"
    },
    "id": "S2gSkUmTU9ei",
    "outputId": "d9e251b9-a491-4483-eb0c-df289b6bb099"
   },
   "outputs": [
    {
     "data": {
      "text/plain": [
       "((102,), (102, 1))"
      ]
     },
     "execution_count": 24,
     "metadata": {},
     "output_type": "execute_result"
    }
   ],
   "source": [
    "test_targets.shape, predictions.shape"
   ]
  },
  {
   "cell_type": "code",
   "execution_count": 25,
   "metadata": {
    "id": "AvJB8cLpVNTT"
   },
   "outputs": [],
   "source": [
    "# squeezing the pred value so as to get it to same shape with the test_target\n",
    "\n",
    "predictions = np.squeeze(predictions)\n"
   ]
  },
  {
   "cell_type": "code",
   "execution_count": 26,
   "metadata": {
    "colab": {
     "base_uri": "https://localhost:8080/"
    },
    "id": "1OkNOVj1EmLY",
    "outputId": "b6933955-d68c-41a1-ed9c-e8a29bdda251"
   },
   "outputs": [
    {
     "name": "stdout",
     "output_type": "stream",
     "text": [
      "     Prediction  Actual\n",
      "0     18.481335    22.4\n",
      "1     25.732924    28.6\n",
      "2     17.568354    19.5\n",
      "3     23.241873    24.8\n",
      "4     17.774061    24.5\n",
      "..          ...     ...\n",
      "97    15.029837    19.5\n",
      "98    17.992500    21.1\n",
      "99    24.139790    24.5\n",
      "100   11.864011    13.4\n",
      "101   13.950782    18.6\n",
      "\n",
      "[102 rows x 2 columns]\n"
     ]
    }
   ],
   "source": [
    "# putting the pred to a pandas dataframe\n",
    "predictions_df = pd.DataFrame({'Prediction': predictions, 'Actual': test_targets})\n",
    "\n",
    "# Display the first few rows of the DataFrame\n",
    "print(predictions_df)"
   ]
  },
  {
   "cell_type": "code",
   "execution_count": 27,
   "metadata": {
    "colab": {
     "base_uri": "https://localhost:8080/",
     "height": 206
    },
    "id": "YPylENMrU5bE",
    "outputId": "a22cf114-1edf-496f-84d9-e3ee3d749c83"
   },
   "outputs": [
    {
     "data": {
      "application/vnd.google.colaboratory.intrinsic+json": {
       "summary": "{\n  \"name\": \"predictions_df\",\n  \"rows\": 102,\n  \"fields\": [\n    {\n      \"column\": \"Prediction\",\n      \"properties\": {\n        \"dtype\": \"float32\",\n        \"num_unique_values\": 102,\n        \"samples\": [\n          9.556381225585938,\n          25.663000106811523,\n          21.14598274230957\n        ],\n        \"semantic_type\": \"\",\n        \"description\": \"\"\n      }\n    },\n    {\n      \"column\": \"Actual\",\n      \"properties\": {\n        \"dtype\": \"number\",\n        \"std\": 8.479798472805259,\n        \"min\": 7.2,\n        \"max\": 50.0,\n        \"num_unique_values\": 83,\n        \"samples\": [\n          21.9,\n          22.4,\n          19.4\n        ],\n        \"semantic_type\": \"\",\n        \"description\": \"\"\n      }\n    },\n    {\n      \"column\": \"Residual\",\n      \"properties\": {\n        \"dtype\": \"number\",\n        \"std\": 4.424413393457303,\n        \"min\": -30.138105392456055,\n        \"max\": 7.552749252319336,\n        \"num_unique_values\": 102,\n        \"samples\": [\n          -1.3436187744140629,\n          -3.936999893188478,\n          -1.1540172576904304\n        ],\n        \"semantic_type\": \"\",\n        \"description\": \"\"\n      }\n    }\n  ]\n}",
       "type": "dataframe",
       "variable_name": "predictions_df"
      },
      "text/html": [
       "\n",
       "  <div id=\"df-ef93f623-d271-449a-b87b-1e284ee5b65c\" class=\"colab-df-container\">\n",
       "    <div>\n",
       "<style scoped>\n",
       "    .dataframe tbody tr th:only-of-type {\n",
       "        vertical-align: middle;\n",
       "    }\n",
       "\n",
       "    .dataframe tbody tr th {\n",
       "        vertical-align: top;\n",
       "    }\n",
       "\n",
       "    .dataframe thead th {\n",
       "        text-align: right;\n",
       "    }\n",
       "</style>\n",
       "<table border=\"1\" class=\"dataframe\">\n",
       "  <thead>\n",
       "    <tr style=\"text-align: right;\">\n",
       "      <th></th>\n",
       "      <th>Prediction</th>\n",
       "      <th>Actual</th>\n",
       "      <th>Residual</th>\n",
       "    </tr>\n",
       "  </thead>\n",
       "  <tbody>\n",
       "    <tr>\n",
       "      <th>0</th>\n",
       "      <td>18.481335</td>\n",
       "      <td>22.4</td>\n",
       "      <td>-3.918665</td>\n",
       "    </tr>\n",
       "    <tr>\n",
       "      <th>1</th>\n",
       "      <td>25.732924</td>\n",
       "      <td>28.6</td>\n",
       "      <td>-2.867076</td>\n",
       "    </tr>\n",
       "    <tr>\n",
       "      <th>2</th>\n",
       "      <td>17.568354</td>\n",
       "      <td>19.5</td>\n",
       "      <td>-1.931646</td>\n",
       "    </tr>\n",
       "    <tr>\n",
       "      <th>3</th>\n",
       "      <td>23.241873</td>\n",
       "      <td>24.8</td>\n",
       "      <td>-1.558127</td>\n",
       "    </tr>\n",
       "    <tr>\n",
       "      <th>4</th>\n",
       "      <td>17.774061</td>\n",
       "      <td>24.5</td>\n",
       "      <td>-6.725939</td>\n",
       "    </tr>\n",
       "  </tbody>\n",
       "</table>\n",
       "</div>\n",
       "    <div class=\"colab-df-buttons\">\n",
       "\n",
       "  <div class=\"colab-df-container\">\n",
       "    <button class=\"colab-df-convert\" onclick=\"convertToInteractive('df-ef93f623-d271-449a-b87b-1e284ee5b65c')\"\n",
       "            title=\"Convert this dataframe to an interactive table.\"\n",
       "            style=\"display:none;\">\n",
       "\n",
       "  <svg xmlns=\"http://www.w3.org/2000/svg\" height=\"24px\" viewBox=\"0 -960 960 960\">\n",
       "    <path d=\"M120-120v-720h720v720H120Zm60-500h600v-160H180v160Zm220 220h160v-160H400v160Zm0 220h160v-160H400v160ZM180-400h160v-160H180v160Zm440 0h160v-160H620v160ZM180-180h160v-160H180v160Zm440 0h160v-160H620v160Z\"/>\n",
       "  </svg>\n",
       "    </button>\n",
       "\n",
       "  <style>\n",
       "    .colab-df-container {\n",
       "      display:flex;\n",
       "      gap: 12px;\n",
       "    }\n",
       "\n",
       "    .colab-df-convert {\n",
       "      background-color: #E8F0FE;\n",
       "      border: none;\n",
       "      border-radius: 50%;\n",
       "      cursor: pointer;\n",
       "      display: none;\n",
       "      fill: #1967D2;\n",
       "      height: 32px;\n",
       "      padding: 0 0 0 0;\n",
       "      width: 32px;\n",
       "    }\n",
       "\n",
       "    .colab-df-convert:hover {\n",
       "      background-color: #E2EBFA;\n",
       "      box-shadow: 0px 1px 2px rgba(60, 64, 67, 0.3), 0px 1px 3px 1px rgba(60, 64, 67, 0.15);\n",
       "      fill: #174EA6;\n",
       "    }\n",
       "\n",
       "    .colab-df-buttons div {\n",
       "      margin-bottom: 4px;\n",
       "    }\n",
       "\n",
       "    [theme=dark] .colab-df-convert {\n",
       "      background-color: #3B4455;\n",
       "      fill: #D2E3FC;\n",
       "    }\n",
       "\n",
       "    [theme=dark] .colab-df-convert:hover {\n",
       "      background-color: #434B5C;\n",
       "      box-shadow: 0px 1px 3px 1px rgba(0, 0, 0, 0.15);\n",
       "      filter: drop-shadow(0px 1px 2px rgba(0, 0, 0, 0.3));\n",
       "      fill: #FFFFFF;\n",
       "    }\n",
       "  </style>\n",
       "\n",
       "    <script>\n",
       "      const buttonEl =\n",
       "        document.querySelector('#df-ef93f623-d271-449a-b87b-1e284ee5b65c button.colab-df-convert');\n",
       "      buttonEl.style.display =\n",
       "        google.colab.kernel.accessAllowed ? 'block' : 'none';\n",
       "\n",
       "      async function convertToInteractive(key) {\n",
       "        const element = document.querySelector('#df-ef93f623-d271-449a-b87b-1e284ee5b65c');\n",
       "        const dataTable =\n",
       "          await google.colab.kernel.invokeFunction('convertToInteractive',\n",
       "                                                    [key], {});\n",
       "        if (!dataTable) return;\n",
       "\n",
       "        const docLinkHtml = 'Like what you see? Visit the ' +\n",
       "          '<a target=\"_blank\" href=https://colab.research.google.com/notebooks/data_table.ipynb>data table notebook</a>'\n",
       "          + ' to learn more about interactive tables.';\n",
       "        element.innerHTML = '';\n",
       "        dataTable['output_type'] = 'display_data';\n",
       "        await google.colab.output.renderOutput(dataTable, element);\n",
       "        const docLink = document.createElement('div');\n",
       "        docLink.innerHTML = docLinkHtml;\n",
       "        element.appendChild(docLink);\n",
       "      }\n",
       "    </script>\n",
       "  </div>\n",
       "\n",
       "\n",
       "<div id=\"df-09d466a1-0697-41d0-80d4-9708b8c0e0af\">\n",
       "  <button class=\"colab-df-quickchart\" onclick=\"quickchart('df-09d466a1-0697-41d0-80d4-9708b8c0e0af')\"\n",
       "            title=\"Suggest charts\"\n",
       "            style=\"display:none;\">\n",
       "\n",
       "<svg xmlns=\"http://www.w3.org/2000/svg\" height=\"24px\"viewBox=\"0 0 24 24\"\n",
       "     width=\"24px\">\n",
       "    <g>\n",
       "        <path d=\"M19 3H5c-1.1 0-2 .9-2 2v14c0 1.1.9 2 2 2h14c1.1 0 2-.9 2-2V5c0-1.1-.9-2-2-2zM9 17H7v-7h2v7zm4 0h-2V7h2v10zm4 0h-2v-4h2v4z\"/>\n",
       "    </g>\n",
       "</svg>\n",
       "  </button>\n",
       "\n",
       "<style>\n",
       "  .colab-df-quickchart {\n",
       "      --bg-color: #E8F0FE;\n",
       "      --fill-color: #1967D2;\n",
       "      --hover-bg-color: #E2EBFA;\n",
       "      --hover-fill-color: #174EA6;\n",
       "      --disabled-fill-color: #AAA;\n",
       "      --disabled-bg-color: #DDD;\n",
       "  }\n",
       "\n",
       "  [theme=dark] .colab-df-quickchart {\n",
       "      --bg-color: #3B4455;\n",
       "      --fill-color: #D2E3FC;\n",
       "      --hover-bg-color: #434B5C;\n",
       "      --hover-fill-color: #FFFFFF;\n",
       "      --disabled-bg-color: #3B4455;\n",
       "      --disabled-fill-color: #666;\n",
       "  }\n",
       "\n",
       "  .colab-df-quickchart {\n",
       "    background-color: var(--bg-color);\n",
       "    border: none;\n",
       "    border-radius: 50%;\n",
       "    cursor: pointer;\n",
       "    display: none;\n",
       "    fill: var(--fill-color);\n",
       "    height: 32px;\n",
       "    padding: 0;\n",
       "    width: 32px;\n",
       "  }\n",
       "\n",
       "  .colab-df-quickchart:hover {\n",
       "    background-color: var(--hover-bg-color);\n",
       "    box-shadow: 0 1px 2px rgba(60, 64, 67, 0.3), 0 1px 3px 1px rgba(60, 64, 67, 0.15);\n",
       "    fill: var(--button-hover-fill-color);\n",
       "  }\n",
       "\n",
       "  .colab-df-quickchart-complete:disabled,\n",
       "  .colab-df-quickchart-complete:disabled:hover {\n",
       "    background-color: var(--disabled-bg-color);\n",
       "    fill: var(--disabled-fill-color);\n",
       "    box-shadow: none;\n",
       "  }\n",
       "\n",
       "  .colab-df-spinner {\n",
       "    border: 2px solid var(--fill-color);\n",
       "    border-color: transparent;\n",
       "    border-bottom-color: var(--fill-color);\n",
       "    animation:\n",
       "      spin 1s steps(1) infinite;\n",
       "  }\n",
       "\n",
       "  @keyframes spin {\n",
       "    0% {\n",
       "      border-color: transparent;\n",
       "      border-bottom-color: var(--fill-color);\n",
       "      border-left-color: var(--fill-color);\n",
       "    }\n",
       "    20% {\n",
       "      border-color: transparent;\n",
       "      border-left-color: var(--fill-color);\n",
       "      border-top-color: var(--fill-color);\n",
       "    }\n",
       "    30% {\n",
       "      border-color: transparent;\n",
       "      border-left-color: var(--fill-color);\n",
       "      border-top-color: var(--fill-color);\n",
       "      border-right-color: var(--fill-color);\n",
       "    }\n",
       "    40% {\n",
       "      border-color: transparent;\n",
       "      border-right-color: var(--fill-color);\n",
       "      border-top-color: var(--fill-color);\n",
       "    }\n",
       "    60% {\n",
       "      border-color: transparent;\n",
       "      border-right-color: var(--fill-color);\n",
       "    }\n",
       "    80% {\n",
       "      border-color: transparent;\n",
       "      border-right-color: var(--fill-color);\n",
       "      border-bottom-color: var(--fill-color);\n",
       "    }\n",
       "    90% {\n",
       "      border-color: transparent;\n",
       "      border-bottom-color: var(--fill-color);\n",
       "    }\n",
       "  }\n",
       "</style>\n",
       "\n",
       "  <script>\n",
       "    async function quickchart(key) {\n",
       "      const quickchartButtonEl =\n",
       "        document.querySelector('#' + key + ' button');\n",
       "      quickchartButtonEl.disabled = true;  // To prevent multiple clicks.\n",
       "      quickchartButtonEl.classList.add('colab-df-spinner');\n",
       "      try {\n",
       "        const charts = await google.colab.kernel.invokeFunction(\n",
       "            'suggestCharts', [key], {});\n",
       "      } catch (error) {\n",
       "        console.error('Error during call to suggestCharts:', error);\n",
       "      }\n",
       "      quickchartButtonEl.classList.remove('colab-df-spinner');\n",
       "      quickchartButtonEl.classList.add('colab-df-quickchart-complete');\n",
       "    }\n",
       "    (() => {\n",
       "      let quickchartButtonEl =\n",
       "        document.querySelector('#df-09d466a1-0697-41d0-80d4-9708b8c0e0af button');\n",
       "      quickchartButtonEl.style.display =\n",
       "        google.colab.kernel.accessAllowed ? 'block' : 'none';\n",
       "    })();\n",
       "  </script>\n",
       "</div>\n",
       "\n",
       "    </div>\n",
       "  </div>\n"
      ],
      "text/plain": [
       "   Prediction  Actual  Residual\n",
       "0   18.481335    22.4 -3.918665\n",
       "1   25.732924    28.6 -2.867076\n",
       "2   17.568354    19.5 -1.931646\n",
       "3   23.241873    24.8 -1.558127\n",
       "4   17.774061    24.5 -6.725939"
      ]
     },
     "execution_count": 27,
     "metadata": {},
     "output_type": "execute_result"
    }
   ],
   "source": [
    "# adding the Residual column which is the difference between the predicted and actual values\n",
    "predictions_df[\"Residual\"] = predictions_df[\"Prediction\"] - predictions_df[\"Actual\"]\n",
    "\n",
    "predictions_df.head()"
   ]
  },
  {
   "cell_type": "code",
   "execution_count": 28,
   "metadata": {
    "colab": {
     "base_uri": "https://localhost:8080/",
     "height": 424
    },
    "id": "mkNGaZTaF0_G",
    "outputId": "9ece1c51-a4a2-478f-ab1f-71b16c9a759c"
   },
   "outputs": [
    {
     "data": {
      "application/vnd.google.colaboratory.intrinsic+json": {
       "summary": "{\n  \"name\": \"predictions_df\",\n  \"rows\": 102,\n  \"fields\": [\n    {\n      \"column\": \"Prediction\",\n      \"properties\": {\n        \"dtype\": \"float32\",\n        \"num_unique_values\": 102,\n        \"samples\": [\n          9.556381225585938,\n          25.663000106811523,\n          21.14598274230957\n        ],\n        \"semantic_type\": \"\",\n        \"description\": \"\"\n      }\n    },\n    {\n      \"column\": \"Actual\",\n      \"properties\": {\n        \"dtype\": \"number\",\n        \"std\": 8.479798472805259,\n        \"min\": 7.2,\n        \"max\": 50.0,\n        \"num_unique_values\": 83,\n        \"samples\": [\n          21.9,\n          22.4,\n          19.4\n        ],\n        \"semantic_type\": \"\",\n        \"description\": \"\"\n      }\n    },\n    {\n      \"column\": \"Residual\",\n      \"properties\": {\n        \"dtype\": \"number\",\n        \"std\": 4.424413393457303,\n        \"min\": -30.138105392456055,\n        \"max\": 7.552749252319336,\n        \"num_unique_values\": 102,\n        \"samples\": [\n          -1.3436187744140629,\n          -3.936999893188478,\n          -1.1540172576904304\n        ],\n        \"semantic_type\": \"\",\n        \"description\": \"\"\n      }\n    },\n    {\n      \"column\": \"Difference %\",\n      \"properties\": {\n        \"dtype\": \"number\",\n        \"std\": 14.9839128341676,\n        \"min\": 0.17521109356975956,\n        \"max\": 96.37457529703775,\n        \"num_unique_values\": 102,\n        \"samples\": [\n          12.326777746918008,\n          13.300675314825938,\n          5.174965281123006\n        ],\n        \"semantic_type\": \"\",\n        \"description\": \"\"\n      }\n    }\n  ]\n}",
       "type": "dataframe",
       "variable_name": "predictions_df"
      },
      "text/html": [
       "\n",
       "  <div id=\"df-de34323b-baed-4102-b342-b184ce3558fa\" class=\"colab-df-container\">\n",
       "    <div>\n",
       "<style scoped>\n",
       "    .dataframe tbody tr th:only-of-type {\n",
       "        vertical-align: middle;\n",
       "    }\n",
       "\n",
       "    .dataframe tbody tr th {\n",
       "        vertical-align: top;\n",
       "    }\n",
       "\n",
       "    .dataframe thead th {\n",
       "        text-align: right;\n",
       "    }\n",
       "</style>\n",
       "<table border=\"1\" class=\"dataframe\">\n",
       "  <thead>\n",
       "    <tr style=\"text-align: right;\">\n",
       "      <th></th>\n",
       "      <th>Prediction</th>\n",
       "      <th>Actual</th>\n",
       "      <th>Residual</th>\n",
       "      <th>Difference %</th>\n",
       "    </tr>\n",
       "  </thead>\n",
       "  <tbody>\n",
       "    <tr>\n",
       "      <th>0</th>\n",
       "      <td>18.481335</td>\n",
       "      <td>22.4</td>\n",
       "      <td>-3.918665</td>\n",
       "      <td>17.494042</td>\n",
       "    </tr>\n",
       "    <tr>\n",
       "      <th>1</th>\n",
       "      <td>25.732924</td>\n",
       "      <td>28.6</td>\n",
       "      <td>-2.867076</td>\n",
       "      <td>10.024743</td>\n",
       "    </tr>\n",
       "    <tr>\n",
       "      <th>2</th>\n",
       "      <td>17.568354</td>\n",
       "      <td>19.5</td>\n",
       "      <td>-1.931646</td>\n",
       "      <td>9.905879</td>\n",
       "    </tr>\n",
       "    <tr>\n",
       "      <th>3</th>\n",
       "      <td>23.241873</td>\n",
       "      <td>24.8</td>\n",
       "      <td>-1.558127</td>\n",
       "      <td>6.282771</td>\n",
       "    </tr>\n",
       "    <tr>\n",
       "      <th>4</th>\n",
       "      <td>17.774061</td>\n",
       "      <td>24.5</td>\n",
       "      <td>-6.725939</td>\n",
       "      <td>27.452811</td>\n",
       "    </tr>\n",
       "    <tr>\n",
       "      <th>...</th>\n",
       "      <td>...</td>\n",
       "      <td>...</td>\n",
       "      <td>...</td>\n",
       "      <td>...</td>\n",
       "    </tr>\n",
       "    <tr>\n",
       "      <th>97</th>\n",
       "      <td>15.029837</td>\n",
       "      <td>19.5</td>\n",
       "      <td>-4.470163</td>\n",
       "      <td>22.923915</td>\n",
       "    </tr>\n",
       "    <tr>\n",
       "      <th>98</th>\n",
       "      <td>17.992500</td>\n",
       "      <td>21.1</td>\n",
       "      <td>-3.107500</td>\n",
       "      <td>14.727487</td>\n",
       "    </tr>\n",
       "    <tr>\n",
       "      <th>99</th>\n",
       "      <td>24.139790</td>\n",
       "      <td>24.5</td>\n",
       "      <td>-0.360210</td>\n",
       "      <td>1.470247</td>\n",
       "    </tr>\n",
       "    <tr>\n",
       "      <th>100</th>\n",
       "      <td>11.864011</td>\n",
       "      <td>13.4</td>\n",
       "      <td>-1.535989</td>\n",
       "      <td>11.462606</td>\n",
       "    </tr>\n",
       "    <tr>\n",
       "      <th>101</th>\n",
       "      <td>13.950782</td>\n",
       "      <td>18.6</td>\n",
       "      <td>-4.649218</td>\n",
       "      <td>24.995797</td>\n",
       "    </tr>\n",
       "  </tbody>\n",
       "</table>\n",
       "<p>102 rows × 4 columns</p>\n",
       "</div>\n",
       "    <div class=\"colab-df-buttons\">\n",
       "\n",
       "  <div class=\"colab-df-container\">\n",
       "    <button class=\"colab-df-convert\" onclick=\"convertToInteractive('df-de34323b-baed-4102-b342-b184ce3558fa')\"\n",
       "            title=\"Convert this dataframe to an interactive table.\"\n",
       "            style=\"display:none;\">\n",
       "\n",
       "  <svg xmlns=\"http://www.w3.org/2000/svg\" height=\"24px\" viewBox=\"0 -960 960 960\">\n",
       "    <path d=\"M120-120v-720h720v720H120Zm60-500h600v-160H180v160Zm220 220h160v-160H400v160Zm0 220h160v-160H400v160ZM180-400h160v-160H180v160Zm440 0h160v-160H620v160ZM180-180h160v-160H180v160Zm440 0h160v-160H620v160Z\"/>\n",
       "  </svg>\n",
       "    </button>\n",
       "\n",
       "  <style>\n",
       "    .colab-df-container {\n",
       "      display:flex;\n",
       "      gap: 12px;\n",
       "    }\n",
       "\n",
       "    .colab-df-convert {\n",
       "      background-color: #E8F0FE;\n",
       "      border: none;\n",
       "      border-radius: 50%;\n",
       "      cursor: pointer;\n",
       "      display: none;\n",
       "      fill: #1967D2;\n",
       "      height: 32px;\n",
       "      padding: 0 0 0 0;\n",
       "      width: 32px;\n",
       "    }\n",
       "\n",
       "    .colab-df-convert:hover {\n",
       "      background-color: #E2EBFA;\n",
       "      box-shadow: 0px 1px 2px rgba(60, 64, 67, 0.3), 0px 1px 3px 1px rgba(60, 64, 67, 0.15);\n",
       "      fill: #174EA6;\n",
       "    }\n",
       "\n",
       "    .colab-df-buttons div {\n",
       "      margin-bottom: 4px;\n",
       "    }\n",
       "\n",
       "    [theme=dark] .colab-df-convert {\n",
       "      background-color: #3B4455;\n",
       "      fill: #D2E3FC;\n",
       "    }\n",
       "\n",
       "    [theme=dark] .colab-df-convert:hover {\n",
       "      background-color: #434B5C;\n",
       "      box-shadow: 0px 1px 3px 1px rgba(0, 0, 0, 0.15);\n",
       "      filter: drop-shadow(0px 1px 2px rgba(0, 0, 0, 0.3));\n",
       "      fill: #FFFFFF;\n",
       "    }\n",
       "  </style>\n",
       "\n",
       "    <script>\n",
       "      const buttonEl =\n",
       "        document.querySelector('#df-de34323b-baed-4102-b342-b184ce3558fa button.colab-df-convert');\n",
       "      buttonEl.style.display =\n",
       "        google.colab.kernel.accessAllowed ? 'block' : 'none';\n",
       "\n",
       "      async function convertToInteractive(key) {\n",
       "        const element = document.querySelector('#df-de34323b-baed-4102-b342-b184ce3558fa');\n",
       "        const dataTable =\n",
       "          await google.colab.kernel.invokeFunction('convertToInteractive',\n",
       "                                                    [key], {});\n",
       "        if (!dataTable) return;\n",
       "\n",
       "        const docLinkHtml = 'Like what you see? Visit the ' +\n",
       "          '<a target=\"_blank\" href=https://colab.research.google.com/notebooks/data_table.ipynb>data table notebook</a>'\n",
       "          + ' to learn more about interactive tables.';\n",
       "        element.innerHTML = '';\n",
       "        dataTable['output_type'] = 'display_data';\n",
       "        await google.colab.output.renderOutput(dataTable, element);\n",
       "        const docLink = document.createElement('div');\n",
       "        docLink.innerHTML = docLinkHtml;\n",
       "        element.appendChild(docLink);\n",
       "      }\n",
       "    </script>\n",
       "  </div>\n",
       "\n",
       "\n",
       "<div id=\"df-3f85fc90-5e08-4adb-8b39-b960a1864c81\">\n",
       "  <button class=\"colab-df-quickchart\" onclick=\"quickchart('df-3f85fc90-5e08-4adb-8b39-b960a1864c81')\"\n",
       "            title=\"Suggest charts\"\n",
       "            style=\"display:none;\">\n",
       "\n",
       "<svg xmlns=\"http://www.w3.org/2000/svg\" height=\"24px\"viewBox=\"0 0 24 24\"\n",
       "     width=\"24px\">\n",
       "    <g>\n",
       "        <path d=\"M19 3H5c-1.1 0-2 .9-2 2v14c0 1.1.9 2 2 2h14c1.1 0 2-.9 2-2V5c0-1.1-.9-2-2-2zM9 17H7v-7h2v7zm4 0h-2V7h2v10zm4 0h-2v-4h2v4z\"/>\n",
       "    </g>\n",
       "</svg>\n",
       "  </button>\n",
       "\n",
       "<style>\n",
       "  .colab-df-quickchart {\n",
       "      --bg-color: #E8F0FE;\n",
       "      --fill-color: #1967D2;\n",
       "      --hover-bg-color: #E2EBFA;\n",
       "      --hover-fill-color: #174EA6;\n",
       "      --disabled-fill-color: #AAA;\n",
       "      --disabled-bg-color: #DDD;\n",
       "  }\n",
       "\n",
       "  [theme=dark] .colab-df-quickchart {\n",
       "      --bg-color: #3B4455;\n",
       "      --fill-color: #D2E3FC;\n",
       "      --hover-bg-color: #434B5C;\n",
       "      --hover-fill-color: #FFFFFF;\n",
       "      --disabled-bg-color: #3B4455;\n",
       "      --disabled-fill-color: #666;\n",
       "  }\n",
       "\n",
       "  .colab-df-quickchart {\n",
       "    background-color: var(--bg-color);\n",
       "    border: none;\n",
       "    border-radius: 50%;\n",
       "    cursor: pointer;\n",
       "    display: none;\n",
       "    fill: var(--fill-color);\n",
       "    height: 32px;\n",
       "    padding: 0;\n",
       "    width: 32px;\n",
       "  }\n",
       "\n",
       "  .colab-df-quickchart:hover {\n",
       "    background-color: var(--hover-bg-color);\n",
       "    box-shadow: 0 1px 2px rgba(60, 64, 67, 0.3), 0 1px 3px 1px rgba(60, 64, 67, 0.15);\n",
       "    fill: var(--button-hover-fill-color);\n",
       "  }\n",
       "\n",
       "  .colab-df-quickchart-complete:disabled,\n",
       "  .colab-df-quickchart-complete:disabled:hover {\n",
       "    background-color: var(--disabled-bg-color);\n",
       "    fill: var(--disabled-fill-color);\n",
       "    box-shadow: none;\n",
       "  }\n",
       "\n",
       "  .colab-df-spinner {\n",
       "    border: 2px solid var(--fill-color);\n",
       "    border-color: transparent;\n",
       "    border-bottom-color: var(--fill-color);\n",
       "    animation:\n",
       "      spin 1s steps(1) infinite;\n",
       "  }\n",
       "\n",
       "  @keyframes spin {\n",
       "    0% {\n",
       "      border-color: transparent;\n",
       "      border-bottom-color: var(--fill-color);\n",
       "      border-left-color: var(--fill-color);\n",
       "    }\n",
       "    20% {\n",
       "      border-color: transparent;\n",
       "      border-left-color: var(--fill-color);\n",
       "      border-top-color: var(--fill-color);\n",
       "    }\n",
       "    30% {\n",
       "      border-color: transparent;\n",
       "      border-left-color: var(--fill-color);\n",
       "      border-top-color: var(--fill-color);\n",
       "      border-right-color: var(--fill-color);\n",
       "    }\n",
       "    40% {\n",
       "      border-color: transparent;\n",
       "      border-right-color: var(--fill-color);\n",
       "      border-top-color: var(--fill-color);\n",
       "    }\n",
       "    60% {\n",
       "      border-color: transparent;\n",
       "      border-right-color: var(--fill-color);\n",
       "    }\n",
       "    80% {\n",
       "      border-color: transparent;\n",
       "      border-right-color: var(--fill-color);\n",
       "      border-bottom-color: var(--fill-color);\n",
       "    }\n",
       "    90% {\n",
       "      border-color: transparent;\n",
       "      border-bottom-color: var(--fill-color);\n",
       "    }\n",
       "  }\n",
       "</style>\n",
       "\n",
       "  <script>\n",
       "    async function quickchart(key) {\n",
       "      const quickchartButtonEl =\n",
       "        document.querySelector('#' + key + ' button');\n",
       "      quickchartButtonEl.disabled = true;  // To prevent multiple clicks.\n",
       "      quickchartButtonEl.classList.add('colab-df-spinner');\n",
       "      try {\n",
       "        const charts = await google.colab.kernel.invokeFunction(\n",
       "            'suggestCharts', [key], {});\n",
       "      } catch (error) {\n",
       "        console.error('Error during call to suggestCharts:', error);\n",
       "      }\n",
       "      quickchartButtonEl.classList.remove('colab-df-spinner');\n",
       "      quickchartButtonEl.classList.add('colab-df-quickchart-complete');\n",
       "    }\n",
       "    (() => {\n",
       "      let quickchartButtonEl =\n",
       "        document.querySelector('#df-3f85fc90-5e08-4adb-8b39-b960a1864c81 button');\n",
       "      quickchartButtonEl.style.display =\n",
       "        google.colab.kernel.accessAllowed ? 'block' : 'none';\n",
       "    })();\n",
       "  </script>\n",
       "</div>\n",
       "\n",
       "  <div id=\"id_126aa869-4d4b-4959-8d46-720856a0a63a\">\n",
       "    <style>\n",
       "      .colab-df-generate {\n",
       "        background-color: #E8F0FE;\n",
       "        border: none;\n",
       "        border-radius: 50%;\n",
       "        cursor: pointer;\n",
       "        display: none;\n",
       "        fill: #1967D2;\n",
       "        height: 32px;\n",
       "        padding: 0 0 0 0;\n",
       "        width: 32px;\n",
       "      }\n",
       "\n",
       "      .colab-df-generate:hover {\n",
       "        background-color: #E2EBFA;\n",
       "        box-shadow: 0px 1px 2px rgba(60, 64, 67, 0.3), 0px 1px 3px 1px rgba(60, 64, 67, 0.15);\n",
       "        fill: #174EA6;\n",
       "      }\n",
       "\n",
       "      [theme=dark] .colab-df-generate {\n",
       "        background-color: #3B4455;\n",
       "        fill: #D2E3FC;\n",
       "      }\n",
       "\n",
       "      [theme=dark] .colab-df-generate:hover {\n",
       "        background-color: #434B5C;\n",
       "        box-shadow: 0px 1px 3px 1px rgba(0, 0, 0, 0.15);\n",
       "        filter: drop-shadow(0px 1px 2px rgba(0, 0, 0, 0.3));\n",
       "        fill: #FFFFFF;\n",
       "      }\n",
       "    </style>\n",
       "    <button class=\"colab-df-generate\" onclick=\"generateWithVariable('predictions_df')\"\n",
       "            title=\"Generate code using this dataframe.\"\n",
       "            style=\"display:none;\">\n",
       "\n",
       "  <svg xmlns=\"http://www.w3.org/2000/svg\" height=\"24px\"viewBox=\"0 0 24 24\"\n",
       "       width=\"24px\">\n",
       "    <path d=\"M7,19H8.4L18.45,9,17,7.55,7,17.6ZM5,21V16.75L18.45,3.32a2,2,0,0,1,2.83,0l1.4,1.43a1.91,1.91,0,0,1,.58,1.4,1.91,1.91,0,0,1-.58,1.4L9.25,21ZM18.45,9,17,7.55Zm-12,3A5.31,5.31,0,0,0,4.9,8.1,5.31,5.31,0,0,0,1,6.5,5.31,5.31,0,0,0,4.9,4.9,5.31,5.31,0,0,0,6.5,1,5.31,5.31,0,0,0,8.1,4.9,5.31,5.31,0,0,0,12,6.5,5.46,5.46,0,0,0,6.5,12Z\"/>\n",
       "  </svg>\n",
       "    </button>\n",
       "    <script>\n",
       "      (() => {\n",
       "      const buttonEl =\n",
       "        document.querySelector('#id_126aa869-4d4b-4959-8d46-720856a0a63a button.colab-df-generate');\n",
       "      buttonEl.style.display =\n",
       "        google.colab.kernel.accessAllowed ? 'block' : 'none';\n",
       "\n",
       "      buttonEl.onclick = () => {\n",
       "        google.colab.notebook.generateWithVariable('predictions_df');\n",
       "      }\n",
       "      })();\n",
       "    </script>\n",
       "  </div>\n",
       "\n",
       "    </div>\n",
       "  </div>\n"
      ],
      "text/plain": [
       "     Prediction  Actual  Residual  Difference %\n",
       "0     18.481335    22.4 -3.918665     17.494042\n",
       "1     25.732924    28.6 -2.867076     10.024743\n",
       "2     17.568354    19.5 -1.931646      9.905879\n",
       "3     23.241873    24.8 -1.558127      6.282771\n",
       "4     17.774061    24.5 -6.725939     27.452811\n",
       "..          ...     ...       ...           ...\n",
       "97    15.029837    19.5 -4.470163     22.923915\n",
       "98    17.992500    21.1 -3.107500     14.727487\n",
       "99    24.139790    24.5 -0.360210      1.470247\n",
       "100   11.864011    13.4 -1.535989     11.462606\n",
       "101   13.950782    18.6 -4.649218     24.995797\n",
       "\n",
       "[102 rows x 4 columns]"
      ]
     },
     "execution_count": 28,
     "metadata": {},
     "output_type": "execute_result"
    }
   ],
   "source": [
    "# adding a differnce column that we tell the difference in percentage\n",
    "\n",
    "predictions_df[\"Difference %\"] = np.absolute(predictions_df[\"Residual\"] / predictions_df[\"Actual\"] * 100)\n",
    "\n",
    "predictions_df"
   ]
  },
  {
   "cell_type": "code",
   "execution_count": 29,
   "metadata": {
    "colab": {
     "base_uri": "https://localhost:8080/",
     "height": 424
    },
    "id": "T_ZAFkv6QUEi",
    "outputId": "17d84699-3e5d-482f-997f-0200f872b203"
   },
   "outputs": [
    {
     "data": {
      "application/vnd.google.colaboratory.intrinsic+json": {
       "summary": "{\n  \"name\": \"predictions_df\",\n  \"rows\": 102,\n  \"fields\": [\n    {\n      \"column\": \"Prediction\",\n      \"properties\": {\n        \"dtype\": \"float32\",\n        \"num_unique_values\": 102,\n        \"samples\": [\n          18.070253372192383,\n          19.486989974975586,\n          12.644512176513672\n        ],\n        \"semantic_type\": \"\",\n        \"description\": \"\"\n      }\n    },\n    {\n      \"column\": \"Actual\",\n      \"properties\": {\n        \"dtype\": \"number\",\n        \"std\": 8.479798472805257,\n        \"min\": 7.2,\n        \"max\": 50.0,\n        \"num_unique_values\": 83,\n        \"samples\": [\n          16.2,\n          14.9,\n          23.9\n        ],\n        \"semantic_type\": \"\",\n        \"description\": \"\"\n      }\n    },\n    {\n      \"column\": \"Residual\",\n      \"properties\": {\n        \"dtype\": \"number\",\n        \"std\": 4.424413393457303,\n        \"min\": -30.138105392456055,\n        \"max\": 7.552749252319336,\n        \"num_unique_values\": 102,\n        \"samples\": [\n          -1.229746627807618,\n          -3.1130100250244155,\n          -1.8554878234863281\n        ],\n        \"semantic_type\": \"\",\n        \"description\": \"\"\n      }\n    },\n    {\n      \"column\": \"Difference %\",\n      \"properties\": {\n        \"dtype\": \"number\",\n        \"std\": 14.983912834167596,\n        \"min\": 0.17521109356975956,\n        \"max\": 96.37457529703775,\n        \"num_unique_values\": 102,\n        \"samples\": [\n          6.371744185531698,\n          13.774380641700953,\n          12.796467748181573\n        ],\n        \"semantic_type\": \"\",\n        \"description\": \"\"\n      }\n    }\n  ]\n}",
       "type": "dataframe"
      },
      "text/html": [
       "\n",
       "  <div id=\"df-84ff452d-a483-4c8d-9af7-82d032cf0f0c\" class=\"colab-df-container\">\n",
       "    <div>\n",
       "<style scoped>\n",
       "    .dataframe tbody tr th:only-of-type {\n",
       "        vertical-align: middle;\n",
       "    }\n",
       "\n",
       "    .dataframe tbody tr th {\n",
       "        vertical-align: top;\n",
       "    }\n",
       "\n",
       "    .dataframe thead th {\n",
       "        text-align: right;\n",
       "    }\n",
       "</style>\n",
       "<table border=\"1\" class=\"dataframe\">\n",
       "  <thead>\n",
       "    <tr style=\"text-align: right;\">\n",
       "      <th></th>\n",
       "      <th>Prediction</th>\n",
       "      <th>Actual</th>\n",
       "      <th>Residual</th>\n",
       "      <th>Difference %</th>\n",
       "    </tr>\n",
       "  </thead>\n",
       "  <tbody>\n",
       "    <tr>\n",
       "      <th>21</th>\n",
       "      <td>14.93</td>\n",
       "      <td>14.90</td>\n",
       "      <td>0.03</td>\n",
       "      <td>0.18</td>\n",
       "    </tr>\n",
       "    <tr>\n",
       "      <th>73</th>\n",
       "      <td>15.37</td>\n",
       "      <td>15.40</td>\n",
       "      <td>-0.03</td>\n",
       "      <td>0.18</td>\n",
       "    </tr>\n",
       "    <tr>\n",
       "      <th>92</th>\n",
       "      <td>20.26</td>\n",
       "      <td>20.30</td>\n",
       "      <td>-0.04</td>\n",
       "      <td>0.19</td>\n",
       "    </tr>\n",
       "    <tr>\n",
       "      <th>37</th>\n",
       "      <td>36.27</td>\n",
       "      <td>36.50</td>\n",
       "      <td>-0.23</td>\n",
       "      <td>0.62</td>\n",
       "    </tr>\n",
       "    <tr>\n",
       "      <th>69</th>\n",
       "      <td>21.42</td>\n",
       "      <td>21.60</td>\n",
       "      <td>-0.18</td>\n",
       "      <td>0.82</td>\n",
       "    </tr>\n",
       "    <tr>\n",
       "      <th>...</th>\n",
       "      <td>...</td>\n",
       "      <td>...</td>\n",
       "      <td>...</td>\n",
       "      <td>...</td>\n",
       "    </tr>\n",
       "    <tr>\n",
       "      <th>77</th>\n",
       "      <td>9.37</td>\n",
       "      <td>16.30</td>\n",
       "      <td>-6.93</td>\n",
       "      <td>42.49</td>\n",
       "    </tr>\n",
       "    <tr>\n",
       "      <th>90</th>\n",
       "      <td>10.66</td>\n",
       "      <td>23.70</td>\n",
       "      <td>-13.04</td>\n",
       "      <td>55.04</td>\n",
       "    </tr>\n",
       "    <tr>\n",
       "      <th>86</th>\n",
       "      <td>19.86</td>\n",
       "      <td>50.00</td>\n",
       "      <td>-30.14</td>\n",
       "      <td>60.28</td>\n",
       "    </tr>\n",
       "    <tr>\n",
       "      <th>93</th>\n",
       "      <td>19.45</td>\n",
       "      <td>11.90</td>\n",
       "      <td>7.55</td>\n",
       "      <td>63.47</td>\n",
       "    </tr>\n",
       "    <tr>\n",
       "      <th>13</th>\n",
       "      <td>14.14</td>\n",
       "      <td>7.20</td>\n",
       "      <td>6.94</td>\n",
       "      <td>96.37</td>\n",
       "    </tr>\n",
       "  </tbody>\n",
       "</table>\n",
       "<p>102 rows × 4 columns</p>\n",
       "</div>\n",
       "    <div class=\"colab-df-buttons\">\n",
       "\n",
       "  <div class=\"colab-df-container\">\n",
       "    <button class=\"colab-df-convert\" onclick=\"convertToInteractive('df-84ff452d-a483-4c8d-9af7-82d032cf0f0c')\"\n",
       "            title=\"Convert this dataframe to an interactive table.\"\n",
       "            style=\"display:none;\">\n",
       "\n",
       "  <svg xmlns=\"http://www.w3.org/2000/svg\" height=\"24px\" viewBox=\"0 -960 960 960\">\n",
       "    <path d=\"M120-120v-720h720v720H120Zm60-500h600v-160H180v160Zm220 220h160v-160H400v160Zm0 220h160v-160H400v160ZM180-400h160v-160H180v160Zm440 0h160v-160H620v160ZM180-180h160v-160H180v160Zm440 0h160v-160H620v160Z\"/>\n",
       "  </svg>\n",
       "    </button>\n",
       "\n",
       "  <style>\n",
       "    .colab-df-container {\n",
       "      display:flex;\n",
       "      gap: 12px;\n",
       "    }\n",
       "\n",
       "    .colab-df-convert {\n",
       "      background-color: #E8F0FE;\n",
       "      border: none;\n",
       "      border-radius: 50%;\n",
       "      cursor: pointer;\n",
       "      display: none;\n",
       "      fill: #1967D2;\n",
       "      height: 32px;\n",
       "      padding: 0 0 0 0;\n",
       "      width: 32px;\n",
       "    }\n",
       "\n",
       "    .colab-df-convert:hover {\n",
       "      background-color: #E2EBFA;\n",
       "      box-shadow: 0px 1px 2px rgba(60, 64, 67, 0.3), 0px 1px 3px 1px rgba(60, 64, 67, 0.15);\n",
       "      fill: #174EA6;\n",
       "    }\n",
       "\n",
       "    .colab-df-buttons div {\n",
       "      margin-bottom: 4px;\n",
       "    }\n",
       "\n",
       "    [theme=dark] .colab-df-convert {\n",
       "      background-color: #3B4455;\n",
       "      fill: #D2E3FC;\n",
       "    }\n",
       "\n",
       "    [theme=dark] .colab-df-convert:hover {\n",
       "      background-color: #434B5C;\n",
       "      box-shadow: 0px 1px 3px 1px rgba(0, 0, 0, 0.15);\n",
       "      filter: drop-shadow(0px 1px 2px rgba(0, 0, 0, 0.3));\n",
       "      fill: #FFFFFF;\n",
       "    }\n",
       "  </style>\n",
       "\n",
       "    <script>\n",
       "      const buttonEl =\n",
       "        document.querySelector('#df-84ff452d-a483-4c8d-9af7-82d032cf0f0c button.colab-df-convert');\n",
       "      buttonEl.style.display =\n",
       "        google.colab.kernel.accessAllowed ? 'block' : 'none';\n",
       "\n",
       "      async function convertToInteractive(key) {\n",
       "        const element = document.querySelector('#df-84ff452d-a483-4c8d-9af7-82d032cf0f0c');\n",
       "        const dataTable =\n",
       "          await google.colab.kernel.invokeFunction('convertToInteractive',\n",
       "                                                    [key], {});\n",
       "        if (!dataTable) return;\n",
       "\n",
       "        const docLinkHtml = 'Like what you see? Visit the ' +\n",
       "          '<a target=\"_blank\" href=https://colab.research.google.com/notebooks/data_table.ipynb>data table notebook</a>'\n",
       "          + ' to learn more about interactive tables.';\n",
       "        element.innerHTML = '';\n",
       "        dataTable['output_type'] = 'display_data';\n",
       "        await google.colab.output.renderOutput(dataTable, element);\n",
       "        const docLink = document.createElement('div');\n",
       "        docLink.innerHTML = docLinkHtml;\n",
       "        element.appendChild(docLink);\n",
       "      }\n",
       "    </script>\n",
       "  </div>\n",
       "\n",
       "\n",
       "<div id=\"df-1fa2a1dc-88f1-44a4-a9b6-77561d1712a8\">\n",
       "  <button class=\"colab-df-quickchart\" onclick=\"quickchart('df-1fa2a1dc-88f1-44a4-a9b6-77561d1712a8')\"\n",
       "            title=\"Suggest charts\"\n",
       "            style=\"display:none;\">\n",
       "\n",
       "<svg xmlns=\"http://www.w3.org/2000/svg\" height=\"24px\"viewBox=\"0 0 24 24\"\n",
       "     width=\"24px\">\n",
       "    <g>\n",
       "        <path d=\"M19 3H5c-1.1 0-2 .9-2 2v14c0 1.1.9 2 2 2h14c1.1 0 2-.9 2-2V5c0-1.1-.9-2-2-2zM9 17H7v-7h2v7zm4 0h-2V7h2v10zm4 0h-2v-4h2v4z\"/>\n",
       "    </g>\n",
       "</svg>\n",
       "  </button>\n",
       "\n",
       "<style>\n",
       "  .colab-df-quickchart {\n",
       "      --bg-color: #E8F0FE;\n",
       "      --fill-color: #1967D2;\n",
       "      --hover-bg-color: #E2EBFA;\n",
       "      --hover-fill-color: #174EA6;\n",
       "      --disabled-fill-color: #AAA;\n",
       "      --disabled-bg-color: #DDD;\n",
       "  }\n",
       "\n",
       "  [theme=dark] .colab-df-quickchart {\n",
       "      --bg-color: #3B4455;\n",
       "      --fill-color: #D2E3FC;\n",
       "      --hover-bg-color: #434B5C;\n",
       "      --hover-fill-color: #FFFFFF;\n",
       "      --disabled-bg-color: #3B4455;\n",
       "      --disabled-fill-color: #666;\n",
       "  }\n",
       "\n",
       "  .colab-df-quickchart {\n",
       "    background-color: var(--bg-color);\n",
       "    border: none;\n",
       "    border-radius: 50%;\n",
       "    cursor: pointer;\n",
       "    display: none;\n",
       "    fill: var(--fill-color);\n",
       "    height: 32px;\n",
       "    padding: 0;\n",
       "    width: 32px;\n",
       "  }\n",
       "\n",
       "  .colab-df-quickchart:hover {\n",
       "    background-color: var(--hover-bg-color);\n",
       "    box-shadow: 0 1px 2px rgba(60, 64, 67, 0.3), 0 1px 3px 1px rgba(60, 64, 67, 0.15);\n",
       "    fill: var(--button-hover-fill-color);\n",
       "  }\n",
       "\n",
       "  .colab-df-quickchart-complete:disabled,\n",
       "  .colab-df-quickchart-complete:disabled:hover {\n",
       "    background-color: var(--disabled-bg-color);\n",
       "    fill: var(--disabled-fill-color);\n",
       "    box-shadow: none;\n",
       "  }\n",
       "\n",
       "  .colab-df-spinner {\n",
       "    border: 2px solid var(--fill-color);\n",
       "    border-color: transparent;\n",
       "    border-bottom-color: var(--fill-color);\n",
       "    animation:\n",
       "      spin 1s steps(1) infinite;\n",
       "  }\n",
       "\n",
       "  @keyframes spin {\n",
       "    0% {\n",
       "      border-color: transparent;\n",
       "      border-bottom-color: var(--fill-color);\n",
       "      border-left-color: var(--fill-color);\n",
       "    }\n",
       "    20% {\n",
       "      border-color: transparent;\n",
       "      border-left-color: var(--fill-color);\n",
       "      border-top-color: var(--fill-color);\n",
       "    }\n",
       "    30% {\n",
       "      border-color: transparent;\n",
       "      border-left-color: var(--fill-color);\n",
       "      border-top-color: var(--fill-color);\n",
       "      border-right-color: var(--fill-color);\n",
       "    }\n",
       "    40% {\n",
       "      border-color: transparent;\n",
       "      border-right-color: var(--fill-color);\n",
       "      border-top-color: var(--fill-color);\n",
       "    }\n",
       "    60% {\n",
       "      border-color: transparent;\n",
       "      border-right-color: var(--fill-color);\n",
       "    }\n",
       "    80% {\n",
       "      border-color: transparent;\n",
       "      border-right-color: var(--fill-color);\n",
       "      border-bottom-color: var(--fill-color);\n",
       "    }\n",
       "    90% {\n",
       "      border-color: transparent;\n",
       "      border-bottom-color: var(--fill-color);\n",
       "    }\n",
       "  }\n",
       "</style>\n",
       "\n",
       "  <script>\n",
       "    async function quickchart(key) {\n",
       "      const quickchartButtonEl =\n",
       "        document.querySelector('#' + key + ' button');\n",
       "      quickchartButtonEl.disabled = true;  // To prevent multiple clicks.\n",
       "      quickchartButtonEl.classList.add('colab-df-spinner');\n",
       "      try {\n",
       "        const charts = await google.colab.kernel.invokeFunction(\n",
       "            'suggestCharts', [key], {});\n",
       "      } catch (error) {\n",
       "        console.error('Error during call to suggestCharts:', error);\n",
       "      }\n",
       "      quickchartButtonEl.classList.remove('colab-df-spinner');\n",
       "      quickchartButtonEl.classList.add('colab-df-quickchart-complete');\n",
       "    }\n",
       "    (() => {\n",
       "      let quickchartButtonEl =\n",
       "        document.querySelector('#df-1fa2a1dc-88f1-44a4-a9b6-77561d1712a8 button');\n",
       "      quickchartButtonEl.style.display =\n",
       "        google.colab.kernel.accessAllowed ? 'block' : 'none';\n",
       "    })();\n",
       "  </script>\n",
       "</div>\n",
       "\n",
       "    </div>\n",
       "  </div>\n"
      ],
      "text/plain": [
       "    Prediction  Actual  Residual  Difference %\n",
       "21       14.93   14.90      0.03          0.18\n",
       "73       15.37   15.40     -0.03          0.18\n",
       "92       20.26   20.30     -0.04          0.19\n",
       "37       36.27   36.50     -0.23          0.62\n",
       "69       21.42   21.60     -0.18          0.82\n",
       "..         ...     ...       ...           ...\n",
       "77        9.37   16.30     -6.93         42.49\n",
       "90       10.66   23.70    -13.04         55.04\n",
       "86       19.86   50.00    -30.14         60.28\n",
       "93       19.45   11.90      7.55         63.47\n",
       "13       14.14    7.20      6.94         96.37\n",
       "\n",
       "[102 rows x 4 columns]"
      ]
     },
     "execution_count": 29,
     "metadata": {},
     "output_type": "execute_result"
    }
   ],
   "source": [
    "pd.set_option('display.float_format', lambda x: '%.2f' % x)\n",
    "predictions_df.sort_values(by=['Difference %']) # sorting"
   ]
  },
  {
   "cell_type": "code",
   "execution_count": 30,
   "metadata": {
    "colab": {
     "base_uri": "https://localhost:8080/",
     "height": 300
    },
    "id": "mi_3vEmoGHC0",
    "outputId": "49116ef7-0bd8-4bc9-ef99-4b2b76913d13"
   },
   "outputs": [
    {
     "data": {
      "application/vnd.google.colaboratory.intrinsic+json": {
       "summary": "{\n  \"name\": \"predictions_df\",\n  \"rows\": 8,\n  \"fields\": [\n    {\n      \"column\": \"Prediction\",\n      \"properties\": {\n        \"dtype\": \"number\",\n        \"std\": 31.71675252222261,\n        \"min\": 7.234774112701416,\n        \"max\": 102.0,\n        \"num_unique_values\": 8,\n        \"samples\": [\n          20.408885955810547,\n          19.289243698120117,\n          102.0\n        ],\n        \"semantic_type\": \"\",\n        \"description\": \"\"\n      }\n    },\n    {\n      \"column\": \"Actual\",\n      \"properties\": {\n        \"dtype\": \"number\",\n        \"std\": 31.20696306285487,\n        \"min\": 7.2,\n        \"max\": 102.0,\n        \"num_unique_values\": 8,\n        \"samples\": [\n          22.64019607843137,\n          21.4,\n          102.0\n        ],\n        \"semantic_type\": \"\",\n        \"description\": \"\"\n      }\n    },\n    {\n      \"column\": \"Residual\",\n      \"properties\": {\n        \"dtype\": \"number\",\n        \"std\": 39.06760619528906,\n        \"min\": -30.138105392456055,\n        \"max\": 102.0,\n        \"num_unique_values\": 8,\n        \"samples\": [\n          -2.231308607961617,\n          -1.8570383071899421,\n          102.0\n        ],\n        \"semantic_type\": \"\",\n        \"description\": \"\"\n      }\n    },\n    {\n      \"column\": \"Difference %\",\n      \"properties\": {\n        \"dtype\": \"number\",\n        \"std\": 41.55858264018285,\n        \"min\": 0.17521109356975956,\n        \"max\": 102.0,\n        \"num_unique_values\": 8,\n        \"samples\": [\n          14.227310799058206,\n          9.658696089519793,\n          102.0\n        ],\n        \"semantic_type\": \"\",\n        \"description\": \"\"\n      }\n    }\n  ]\n}",
       "type": "dataframe"
      },
      "text/html": [
       "\n",
       "  <div id=\"df-10ab16af-ca2e-4e85-b2a6-8f589562a3a1\" class=\"colab-df-container\">\n",
       "    <div>\n",
       "<style scoped>\n",
       "    .dataframe tbody tr th:only-of-type {\n",
       "        vertical-align: middle;\n",
       "    }\n",
       "\n",
       "    .dataframe tbody tr th {\n",
       "        vertical-align: top;\n",
       "    }\n",
       "\n",
       "    .dataframe thead th {\n",
       "        text-align: right;\n",
       "    }\n",
       "</style>\n",
       "<table border=\"1\" class=\"dataframe\">\n",
       "  <thead>\n",
       "    <tr style=\"text-align: right;\">\n",
       "      <th></th>\n",
       "      <th>Prediction</th>\n",
       "      <th>Actual</th>\n",
       "      <th>Residual</th>\n",
       "      <th>Difference %</th>\n",
       "    </tr>\n",
       "  </thead>\n",
       "  <tbody>\n",
       "    <tr>\n",
       "      <th>count</th>\n",
       "      <td>102.00</td>\n",
       "      <td>102.00</td>\n",
       "      <td>102.00</td>\n",
       "      <td>102.00</td>\n",
       "    </tr>\n",
       "    <tr>\n",
       "      <th>mean</th>\n",
       "      <td>20.41</td>\n",
       "      <td>22.64</td>\n",
       "      <td>-2.23</td>\n",
       "      <td>14.23</td>\n",
       "    </tr>\n",
       "    <tr>\n",
       "      <th>std</th>\n",
       "      <td>7.23</td>\n",
       "      <td>8.48</td>\n",
       "      <td>4.42</td>\n",
       "      <td>14.98</td>\n",
       "    </tr>\n",
       "    <tr>\n",
       "      <th>min</th>\n",
       "      <td>9.35</td>\n",
       "      <td>7.20</td>\n",
       "      <td>-30.14</td>\n",
       "      <td>0.18</td>\n",
       "    </tr>\n",
       "    <tr>\n",
       "      <th>25%</th>\n",
       "      <td>15.84</td>\n",
       "      <td>18.92</td>\n",
       "      <td>-3.34</td>\n",
       "      <td>5.27</td>\n",
       "    </tr>\n",
       "    <tr>\n",
       "      <th>50%</th>\n",
       "      <td>19.29</td>\n",
       "      <td>21.40</td>\n",
       "      <td>-1.86</td>\n",
       "      <td>9.66</td>\n",
       "    </tr>\n",
       "    <tr>\n",
       "      <th>75%</th>\n",
       "      <td>24.28</td>\n",
       "      <td>24.65</td>\n",
       "      <td>-0.27</td>\n",
       "      <td>17.30</td>\n",
       "    </tr>\n",
       "    <tr>\n",
       "      <th>max</th>\n",
       "      <td>52.06</td>\n",
       "      <td>50.00</td>\n",
       "      <td>7.55</td>\n",
       "      <td>96.37</td>\n",
       "    </tr>\n",
       "  </tbody>\n",
       "</table>\n",
       "</div>\n",
       "    <div class=\"colab-df-buttons\">\n",
       "\n",
       "  <div class=\"colab-df-container\">\n",
       "    <button class=\"colab-df-convert\" onclick=\"convertToInteractive('df-10ab16af-ca2e-4e85-b2a6-8f589562a3a1')\"\n",
       "            title=\"Convert this dataframe to an interactive table.\"\n",
       "            style=\"display:none;\">\n",
       "\n",
       "  <svg xmlns=\"http://www.w3.org/2000/svg\" height=\"24px\" viewBox=\"0 -960 960 960\">\n",
       "    <path d=\"M120-120v-720h720v720H120Zm60-500h600v-160H180v160Zm220 220h160v-160H400v160Zm0 220h160v-160H400v160ZM180-400h160v-160H180v160Zm440 0h160v-160H620v160ZM180-180h160v-160H180v160Zm440 0h160v-160H620v160Z\"/>\n",
       "  </svg>\n",
       "    </button>\n",
       "\n",
       "  <style>\n",
       "    .colab-df-container {\n",
       "      display:flex;\n",
       "      gap: 12px;\n",
       "    }\n",
       "\n",
       "    .colab-df-convert {\n",
       "      background-color: #E8F0FE;\n",
       "      border: none;\n",
       "      border-radius: 50%;\n",
       "      cursor: pointer;\n",
       "      display: none;\n",
       "      fill: #1967D2;\n",
       "      height: 32px;\n",
       "      padding: 0 0 0 0;\n",
       "      width: 32px;\n",
       "    }\n",
       "\n",
       "    .colab-df-convert:hover {\n",
       "      background-color: #E2EBFA;\n",
       "      box-shadow: 0px 1px 2px rgba(60, 64, 67, 0.3), 0px 1px 3px 1px rgba(60, 64, 67, 0.15);\n",
       "      fill: #174EA6;\n",
       "    }\n",
       "\n",
       "    .colab-df-buttons div {\n",
       "      margin-bottom: 4px;\n",
       "    }\n",
       "\n",
       "    [theme=dark] .colab-df-convert {\n",
       "      background-color: #3B4455;\n",
       "      fill: #D2E3FC;\n",
       "    }\n",
       "\n",
       "    [theme=dark] .colab-df-convert:hover {\n",
       "      background-color: #434B5C;\n",
       "      box-shadow: 0px 1px 3px 1px rgba(0, 0, 0, 0.15);\n",
       "      filter: drop-shadow(0px 1px 2px rgba(0, 0, 0, 0.3));\n",
       "      fill: #FFFFFF;\n",
       "    }\n",
       "  </style>\n",
       "\n",
       "    <script>\n",
       "      const buttonEl =\n",
       "        document.querySelector('#df-10ab16af-ca2e-4e85-b2a6-8f589562a3a1 button.colab-df-convert');\n",
       "      buttonEl.style.display =\n",
       "        google.colab.kernel.accessAllowed ? 'block' : 'none';\n",
       "\n",
       "      async function convertToInteractive(key) {\n",
       "        const element = document.querySelector('#df-10ab16af-ca2e-4e85-b2a6-8f589562a3a1');\n",
       "        const dataTable =\n",
       "          await google.colab.kernel.invokeFunction('convertToInteractive',\n",
       "                                                    [key], {});\n",
       "        if (!dataTable) return;\n",
       "\n",
       "        const docLinkHtml = 'Like what you see? Visit the ' +\n",
       "          '<a target=\"_blank\" href=https://colab.research.google.com/notebooks/data_table.ipynb>data table notebook</a>'\n",
       "          + ' to learn more about interactive tables.';\n",
       "        element.innerHTML = '';\n",
       "        dataTable['output_type'] = 'display_data';\n",
       "        await google.colab.output.renderOutput(dataTable, element);\n",
       "        const docLink = document.createElement('div');\n",
       "        docLink.innerHTML = docLinkHtml;\n",
       "        element.appendChild(docLink);\n",
       "      }\n",
       "    </script>\n",
       "  </div>\n",
       "\n",
       "\n",
       "<div id=\"df-235ae78a-81cd-42a0-8e86-fd88d0ba23f4\">\n",
       "  <button class=\"colab-df-quickchart\" onclick=\"quickchart('df-235ae78a-81cd-42a0-8e86-fd88d0ba23f4')\"\n",
       "            title=\"Suggest charts\"\n",
       "            style=\"display:none;\">\n",
       "\n",
       "<svg xmlns=\"http://www.w3.org/2000/svg\" height=\"24px\"viewBox=\"0 0 24 24\"\n",
       "     width=\"24px\">\n",
       "    <g>\n",
       "        <path d=\"M19 3H5c-1.1 0-2 .9-2 2v14c0 1.1.9 2 2 2h14c1.1 0 2-.9 2-2V5c0-1.1-.9-2-2-2zM9 17H7v-7h2v7zm4 0h-2V7h2v10zm4 0h-2v-4h2v4z\"/>\n",
       "    </g>\n",
       "</svg>\n",
       "  </button>\n",
       "\n",
       "<style>\n",
       "  .colab-df-quickchart {\n",
       "      --bg-color: #E8F0FE;\n",
       "      --fill-color: #1967D2;\n",
       "      --hover-bg-color: #E2EBFA;\n",
       "      --hover-fill-color: #174EA6;\n",
       "      --disabled-fill-color: #AAA;\n",
       "      --disabled-bg-color: #DDD;\n",
       "  }\n",
       "\n",
       "  [theme=dark] .colab-df-quickchart {\n",
       "      --bg-color: #3B4455;\n",
       "      --fill-color: #D2E3FC;\n",
       "      --hover-bg-color: #434B5C;\n",
       "      --hover-fill-color: #FFFFFF;\n",
       "      --disabled-bg-color: #3B4455;\n",
       "      --disabled-fill-color: #666;\n",
       "  }\n",
       "\n",
       "  .colab-df-quickchart {\n",
       "    background-color: var(--bg-color);\n",
       "    border: none;\n",
       "    border-radius: 50%;\n",
       "    cursor: pointer;\n",
       "    display: none;\n",
       "    fill: var(--fill-color);\n",
       "    height: 32px;\n",
       "    padding: 0;\n",
       "    width: 32px;\n",
       "  }\n",
       "\n",
       "  .colab-df-quickchart:hover {\n",
       "    background-color: var(--hover-bg-color);\n",
       "    box-shadow: 0 1px 2px rgba(60, 64, 67, 0.3), 0 1px 3px 1px rgba(60, 64, 67, 0.15);\n",
       "    fill: var(--button-hover-fill-color);\n",
       "  }\n",
       "\n",
       "  .colab-df-quickchart-complete:disabled,\n",
       "  .colab-df-quickchart-complete:disabled:hover {\n",
       "    background-color: var(--disabled-bg-color);\n",
       "    fill: var(--disabled-fill-color);\n",
       "    box-shadow: none;\n",
       "  }\n",
       "\n",
       "  .colab-df-spinner {\n",
       "    border: 2px solid var(--fill-color);\n",
       "    border-color: transparent;\n",
       "    border-bottom-color: var(--fill-color);\n",
       "    animation:\n",
       "      spin 1s steps(1) infinite;\n",
       "  }\n",
       "\n",
       "  @keyframes spin {\n",
       "    0% {\n",
       "      border-color: transparent;\n",
       "      border-bottom-color: var(--fill-color);\n",
       "      border-left-color: var(--fill-color);\n",
       "    }\n",
       "    20% {\n",
       "      border-color: transparent;\n",
       "      border-left-color: var(--fill-color);\n",
       "      border-top-color: var(--fill-color);\n",
       "    }\n",
       "    30% {\n",
       "      border-color: transparent;\n",
       "      border-left-color: var(--fill-color);\n",
       "      border-top-color: var(--fill-color);\n",
       "      border-right-color: var(--fill-color);\n",
       "    }\n",
       "    40% {\n",
       "      border-color: transparent;\n",
       "      border-right-color: var(--fill-color);\n",
       "      border-top-color: var(--fill-color);\n",
       "    }\n",
       "    60% {\n",
       "      border-color: transparent;\n",
       "      border-right-color: var(--fill-color);\n",
       "    }\n",
       "    80% {\n",
       "      border-color: transparent;\n",
       "      border-right-color: var(--fill-color);\n",
       "      border-bottom-color: var(--fill-color);\n",
       "    }\n",
       "    90% {\n",
       "      border-color: transparent;\n",
       "      border-bottom-color: var(--fill-color);\n",
       "    }\n",
       "  }\n",
       "</style>\n",
       "\n",
       "  <script>\n",
       "    async function quickchart(key) {\n",
       "      const quickchartButtonEl =\n",
       "        document.querySelector('#' + key + ' button');\n",
       "      quickchartButtonEl.disabled = true;  // To prevent multiple clicks.\n",
       "      quickchartButtonEl.classList.add('colab-df-spinner');\n",
       "      try {\n",
       "        const charts = await google.colab.kernel.invokeFunction(\n",
       "            'suggestCharts', [key], {});\n",
       "      } catch (error) {\n",
       "        console.error('Error during call to suggestCharts:', error);\n",
       "      }\n",
       "      quickchartButtonEl.classList.remove('colab-df-spinner');\n",
       "      quickchartButtonEl.classList.add('colab-df-quickchart-complete');\n",
       "    }\n",
       "    (() => {\n",
       "      let quickchartButtonEl =\n",
       "        document.querySelector('#df-235ae78a-81cd-42a0-8e86-fd88d0ba23f4 button');\n",
       "      quickchartButtonEl.style.display =\n",
       "        google.colab.kernel.accessAllowed ? 'block' : 'none';\n",
       "    })();\n",
       "  </script>\n",
       "</div>\n",
       "\n",
       "    </div>\n",
       "  </div>\n"
      ],
      "text/plain": [
       "       Prediction  Actual  Residual  Difference %\n",
       "count      102.00  102.00    102.00        102.00\n",
       "mean        20.41   22.64     -2.23         14.23\n",
       "std          7.23    8.48      4.42         14.98\n",
       "min          9.35    7.20    -30.14          0.18\n",
       "25%         15.84   18.92     -3.34          5.27\n",
       "50%         19.29   21.40     -1.86          9.66\n",
       "75%         24.28   24.65     -0.27         17.30\n",
       "max         52.06   50.00      7.55         96.37"
      ]
     },
     "execution_count": 30,
     "metadata": {},
     "output_type": "execute_result"
    }
   ],
   "source": [
    "predictions_df.describe()"
   ]
  },
  {
   "cell_type": "markdown",
   "metadata": {
    "id": "HGYkcH6IONWv"
   },
   "source": [
    "With the pandas describe method we can see that the prediction has a mean of 20.4 with an standard devaition of 7.23 and the Actual value (test_targets) has a mean of 22 with std of 8 , Model 4 was choosen because it performes best"
   ]
  },
  {
   "cell_type": "code",
   "execution_count": 30,
   "metadata": {
    "id": "bkFoxVDtPI0q"
   },
   "outputs": [],
   "source": []
  }
 ],
 "metadata": {
  "colab": {
   "provenance": []
  },
  "kernelspec": {
   "display_name": "Python 3 (ipykernel)",
   "language": "python",
   "name": "python3"
  },
  "language_info": {
   "codemirror_mode": {
    "name": "ipython",
    "version": 3
   },
   "file_extension": ".py",
   "mimetype": "text/x-python",
   "name": "python",
   "nbconvert_exporter": "python",
   "pygments_lexer": "ipython3",
   "version": "3.9.7"
  }
 },
 "nbformat": 4,
 "nbformat_minor": 1
}
